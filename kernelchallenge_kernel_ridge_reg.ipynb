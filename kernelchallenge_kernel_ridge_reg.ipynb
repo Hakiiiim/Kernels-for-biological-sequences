{
 "cells": [
  {
   "cell_type": "markdown",
   "metadata": {
    "id": "mbA504sZa8WS"
   },
   "source": [
    "$$\n",
    "{\\Huge \\text{ML with Kernels - MVA class of 2020} }\\\\\n",
    "{\\Large \\text{Data challenge}}\\\\\n",
    "\\textbf{Abdelhakim Benechehab, Ichraq Lemghari}\\\\ %You should put your name here\n",
    "\\text{Due: 24 March 2020} %You should write the date here.\n",
    "$$"
   ]
  },
  {
   "cell_type": "markdown",
   "metadata": {},
   "source": [
    "# **Kernel Ridge Regression using RBF, k-spectrum and mismatch kernels**\n",
    "\n",
    "When multicollinearity occurs in a dataset, regression (or least squares) estimates are still unbiased.However, their variances are too large that they may be very different from the true value.\n",
    "\n",
    "Hence, to mitigate this problem of multicollinearity in linear regression, **Ridge regression**, which is a special case of Tikhonovregularization, reduces the standard error by regularizing the parameters equally."
   ]
  },
  {
   "cell_type": "markdown",
   "metadata": {
    "id": "ka2sTCIzl_yS"
   },
   "source": [
    "## Imports\n"
   ]
  },
  {
   "cell_type": "code",
   "execution_count": 1,
   "metadata": {
    "id": "nPxEsu3A1HPb"
   },
   "outputs": [],
   "source": [
    "import numpy as np\n",
    "import pandas as pd\n",
    "import matplotlib.pyplot as plt\n",
    "import seaborn as sns\n",
    "import timeit\n",
    "from scipy.spatial import distance_matrix\n",
    "from scipy import optimize\n",
    "import cvxopt\n",
    "from itertools import product\n",
    "import timeit\n",
    "from scipy.sparse import csr_matrix, csc_matrix, lil_matrix\n",
    "from sklearn.model_selection import train_test_split"
   ]
  },
  {
   "cell_type": "markdown",
   "metadata": {
    "id": "_De_wZiqiVf6"
   },
   "source": [
    "## Data"
   ]
  },
  {
   "cell_type": "markdown",
   "metadata": {
    "id": "DLTGn_pwbq0G"
   },
   "source": [
    "In this section, we extract the three numerical datasets (Xtr0_mat100, Xtr1_mat100, Xtr2_mat100, tr0, Ytr1, Ytr2) . And we apply some data preprocessing so a s to make the lables values in {-1,1}.  \n",
    "\n",
    "Then, we divide the datasets into training and validation subsets so as to test the accuracy before applying the algorithm on  the test data.\n",
    "\n"
   ]
  },
  {
   "cell_type": "code",
   "execution_count": 2,
   "metadata": {
    "colab": {
     "base_uri": "https://localhost:8080/"
    },
    "id": "bAY55bfyDlgQ",
    "outputId": "72ce6c0d-ec5a-4d7a-8af6-37e6c66d317c"
   },
   "outputs": [
    {
     "name": "stdout",
     "output_type": "stream",
     "text": [
      "Mounted at /content/drive\n"
     ]
    }
   ],
   "source": [
    "from google.colab import drive\n",
    "drive.mount('/content/drive')"
   ]
  },
  {
   "cell_type": "code",
   "execution_count": 3,
   "metadata": {
    "id": "uDk0kfnTftVB"
   },
   "outputs": [],
   "source": [
    "Xtr0 = pd.read_csv(\"/content/drive/MyDrive/KM/Challenge/train/Xtr0_mat100.csv\", delimiter= ' ', header=None)\n",
    "Xtr1 = pd.read_csv(\"/content/drive/MyDrive/KM/Challenge/train/Xtr1_mat100.csv\", delimiter= ' ', header=None)\n",
    "Xtr2 = pd.read_csv(\"/content/drive/MyDrive/KM/Challenge/train/Xtr1_mat100.csv\", delimiter= ' ', header=None)\n",
    "\n",
    "Xtr0 = np.array(Xtr0)\n",
    "Xtr1 = np.array(Xtr1)\n",
    "Xtr2 = np.array(Xtr2)\n",
    "\n",
    "N0 = Xtr0.shape[0]\n",
    "N1 = Xtr1.shape[0]\n",
    "N2 = Xtr2.shape[0]\n",
    "\n",
    "ytr0 = pd.read_csv(\"/content/drive/MyDrive/KM/Challenge/train/Ytr0.csv\", delimiter= ',')\n",
    "ytr0 = ytr0.drop(columns='Id')\n",
    "ytr0= ytr0.replace(0,-1)\n",
    "ytr0 = np.array(ytr0).reshape(N0)\n",
    "\n",
    "ytr1 = pd.read_csv(\"/content/drive/MyDrive/KM/Challenge/train/Ytr1.csv\", delimiter= ',')\n",
    "ytr1 = ytr1.drop(columns='Id')\n",
    "ytr1= ytr1.replace(0,-1)\n",
    "ytr1 = np.array(ytr1).reshape(N1)\n",
    "\n",
    "ytr2 = pd.read_csv(\"/content/drive/MyDrive/KM/Challenge/train/Ytr2.csv\", delimiter= ',')\n",
    "ytr2= ytr2.drop(columns='Id')\n",
    "ytr2= ytr2.replace(0,-1)\n",
    "ytr2 = np.array(ytr2).reshape(N2)"
   ]
  },
  {
   "cell_type": "code",
   "execution_count": 4,
   "metadata": {
    "id": "c3-L5C5siXUH"
   },
   "outputs": [],
   "source": [
    "Xtr0_train, Xtr0_test, ytr0_train, ytr0_test = train_test_split( Xtr0, ytr0, test_size=0.20, random_state=42)\n",
    "Xtr1_train, Xtr1_test, ytr1_train, ytr1_test = train_test_split( Xtr1, ytr1, test_size=0.20, random_state=42)\n",
    "Xtr2_train, Xtr2_test, ytr2_train, ytr2_test = train_test_split( Xtr2, ytr2, test_size=0.20, random_state=42)"
   ]
  },
  {
   "cell_type": "markdown",
   "metadata": {
    "id": "oetfcAwZiSvm"
   },
   "source": [
    "## **Ridge regression**"
   ]
  },
  {
   "cell_type": "code",
   "execution_count": 5,
   "metadata": {
    "id": "_tp08Ku5iOK6"
   },
   "outputs": [],
   "source": [
    "class RidgeReg():\n",
    "  '''\n",
    "  This class is an implementation of the ridge regression method\n",
    "\n",
    "  Inputs:\n",
    "    - param: Regularization value (lambda)\n",
    "    - lr: the learning rate used with iterative implementation\n",
    "    - solver: 'closed_form' for using the close form of the estimated parameters\n",
    "              or 'gradient_descent' for an iterative implementation\n",
    "    - maxIter: number of iterations for the gradient stochastic\n",
    "\n",
    "  Outputs:\n",
    "    - fit: the learned parameters\n",
    "    - predict: the prediction using the learned parameters\n",
    "\n",
    "  '''\n",
    "\n",
    "  def __init__(self, param=1.0, lr = 0.01,  solver='closed_form', maxIter = 0):\n",
    "      self.param = param\n",
    "      self.solver = solver\n",
    "      self.maxIter = maxIter\n",
    "      self.lr = lr\n",
    "\n",
    "  def fit(self, X, y):\n",
    "\n",
    "      X_modified = np.c_[np.ones((X.shape[0], 1)), X]\n",
    "\n",
    "      self.X_intercept = X_modified\n",
    "      self.X = X\n",
    "      self.y = y\n",
    "\n",
    "      if self.solver == 'closed_form':\n",
    "\n",
    "          # number of columns in matrix of X including intercept\n",
    "          dimension = self.X_intercept.shape[1]\n",
    "\n",
    "          # Identity matrix of dimension compatible with our X_intercept Matrix\n",
    "          I = np.identity(dimension)\n",
    "\n",
    "          # We create a bias term corresponding to param for each column of X \n",
    "          I_biased = self.param * I\n",
    "\n",
    "          betas = np.linalg.inv(self.X_intercept.T.dot(\n",
    "              self.X_intercept) + I_biased).dot(self.X_intercept.T).dot(y)\n",
    "          self.betas = betas\n",
    "\n",
    "      if self.solver == 'gradient_descent':\n",
    "\n",
    "          self.intercept = 0\n",
    "          self.beta = np.zeros(X.shape[1])\n",
    "          betas =  np.array([self.intercept] + [ a for a in self.beta] )  \n",
    "\n",
    "          self.betas = betas\n",
    "\n",
    "          # gradient descent learning \n",
    "                  \n",
    "          for i in range( self.maxIter ) :             \n",
    "              self.beta, self.intercept = self.update() \n",
    "\n",
    "          betas =  np.array([self.intercept] + [ a for a in self.beta] )  \n",
    "\n",
    "          self.betas = betas\n",
    "\n",
    "      return self.betas\n",
    "\n",
    "  def update(self):\n",
    "\n",
    "      Y_pred = self.predict( self.X ) \n",
    "          \n",
    "        # calculate gradients       \n",
    "      dbeta = ( - ( 2 * ( self.X.T ).dot( self.y - Y_pred ) ) +               \n",
    "               ( 2 * self.param * self.beta ) ) / self.X.shape[0]\n",
    "      dbeta = dbeta.reshape((len(dbeta), 1))\n",
    "      d_intercept= - 2 * np.sum( self.y - Y_pred ) / self.X.shape[0] \n",
    "          \n",
    "        # update weights     \n",
    "      self.beta = self.beta - self.lr * dbeta     \n",
    "      self.intercept = self.intercept - self.lr * d_intercept       \n",
    "\n",
    "      return self.beta, self.intercept\n",
    "\n",
    "\n",
    "  def predict(self, X):\n",
    "      betas = self.betas\n",
    "      X_predictor = np.c_[np.ones((X.shape[0], 1)), X]\n",
    "      self.predictions = X_predictor.dot(betas)\n",
    "      return self.predictions"
   ]
  },
  {
   "cell_type": "markdown",
   "metadata": {
    "id": "b6ZlJAlNltBe"
   },
   "source": [
    "### Xtr0"
   ]
  },
  {
   "cell_type": "code",
   "execution_count": 6,
   "metadata": {
    "colab": {
     "base_uri": "https://localhost:8080/"
    },
    "id": "8jP4TbobigrI",
    "outputId": "da77deed-2e75-4528-99b9-937930b8effb"
   },
   "outputs": [
    {
     "name": "stdout",
     "output_type": "stream",
     "text": [
      "error:  167\n",
      "loss:  0.4175\n",
      "error:  167\n",
      "loss:  0.4175\n",
      "error:  167\n",
      "loss:  0.4175\n",
      "error:  165\n",
      "loss:  0.4125\n",
      "error:  166\n",
      "loss:  0.415\n",
      "error:  169\n",
      "loss:  0.4225\n",
      "optimal param:  0.01\n"
     ]
    }
   ],
   "source": [
    "params = np.array([1e-5, 1e-4, 1e-3, 1e-2, 1e-1, 1])\n",
    "\n",
    "errors = np.zeros(len(params))\n",
    "losses = np.zeros(len(params))\n",
    "\n",
    "for i in range(len(params)):\n",
    "  param =params[i]\n",
    "\n",
    "  Ridge = RidgeReg(param = param)\n",
    "  Ridge.fit(Xtr0_train,ytr0_train)\n",
    "\n",
    "  ypred_tr0 = np.sign(Ridge.predict(Xtr0_test))\n",
    "\n",
    "  error= np.sum((ypred_tr0 - ytr0_test) != 0)\n",
    "  loss = error/len(ytr0_test)\n",
    "\n",
    "  errors[i] = error\n",
    "  losses [i] = loss\n",
    "  print(\"error: \", error)\n",
    "  print(\"loss: \", loss)\n",
    "\n",
    "print('optimal param: ', params[np.argmin(errors)])\n",
    "      \n"
   ]
  },
  {
   "cell_type": "markdown",
   "metadata": {
    "id": "NU3pv6PmfpNA"
   },
   "source": [
    "### Xtr1"
   ]
  },
  {
   "cell_type": "code",
   "execution_count": 7,
   "metadata": {
    "colab": {
     "base_uri": "https://localhost:8080/"
    },
    "id": "mcn4cnxHftXU",
    "outputId": "4d59dc8e-7c7e-47c0-fd8c-4155eea588ae"
   },
   "outputs": [
    {
     "name": "stdout",
     "output_type": "stream",
     "text": [
      "error:  164\n",
      "loss:  0.41\n",
      "error:  164\n",
      "loss:  0.41\n",
      "error:  163\n",
      "loss:  0.4075\n",
      "error:  164\n",
      "loss:  0.41\n",
      "error:  161\n",
      "loss:  0.4025\n",
      "error:  161\n",
      "loss:  0.4025\n",
      "optimal param:  0.1\n"
     ]
    }
   ],
   "source": [
    "params = np.array([1e-5, 1e-4, 1e-3, 1e-2, 1e-1, 1])\n",
    "\n",
    "errors = np.zeros(len(params))\n",
    "losses = np.zeros(len(params))\n",
    "\n",
    "for i in range(len(params)):\n",
    "  param =params[i]\n",
    "\n",
    "  Ridge = RidgeReg(param = param)\n",
    "  Ridge.fit(Xtr1_train,ytr1_train)\n",
    "\n",
    "  ypred_tr1 = np.sign(Ridge.predict(Xtr1_test))\n",
    "\n",
    "  error= np.sum((ypred_tr1 - ytr1_test) != 0)\n",
    "  loss = error/len(ytr1_test)\n",
    "\n",
    "  errors[i] = error\n",
    "  losses [i] = loss\n",
    "  print(\"error: \", error)\n",
    "  print(\"loss: \", loss)\n",
    "\n",
    "print('optimal param: ', params[np.argmin(errors)])"
   ]
  },
  {
   "cell_type": "markdown",
   "metadata": {
    "id": "NZQ-NGgRgQA-"
   },
   "source": [
    "### Xtr2"
   ]
  },
  {
   "cell_type": "code",
   "execution_count": 8,
   "metadata": {
    "colab": {
     "base_uri": "https://localhost:8080/"
    },
    "id": "LcLtGuQwf5do",
    "outputId": "35264384-e160-4743-d707-b0efe2e3f7be"
   },
   "outputs": [
    {
     "name": "stdout",
     "output_type": "stream",
     "text": [
      "error:  213\n",
      "loss:  0.5325\n",
      "error:  212\n",
      "loss:  0.53\n",
      "error:  212\n",
      "loss:  0.53\n",
      "error:  212\n",
      "loss:  0.53\n",
      "error:  203\n",
      "loss:  0.5075\n",
      "error:  218\n",
      "loss:  0.545\n",
      "optimal param:  0.1\n"
     ]
    }
   ],
   "source": [
    "params = np.array([1e-5, 1e-4, 1e-3, 1e-2, 1e-1, 1])\n",
    "\n",
    "errors = np.zeros(len(params))\n",
    "losses = np.zeros(len(params))\n",
    "\n",
    "for i in range(len(params)):\n",
    "  param =params[i]\n",
    "\n",
    "  Ridge = RidgeReg(param = param)\n",
    "  Ridge.fit(Xtr2_train,ytr2_train)\n",
    "\n",
    "  ypred_tr2 = np.sign(Ridge.predict(Xtr2_test))\n",
    "\n",
    "  error= np.sum((ypred_tr2 - ytr2_test) != 0)\n",
    "  loss = error/len(ytr2_test)\n",
    "\n",
    "  errors[i] = error\n",
    "  losses [i] = loss\n",
    "  print(\"error: \", error)\n",
    "  print(\"loss: \", loss)\n",
    "\n",
    "print('optimal param: ', params[np.argmin(errors)])"
   ]
  },
  {
   "cell_type": "markdown",
   "metadata": {
    "id": "8PLkKcjXgcgH"
   },
   "source": [
    "As we can see, the performance of the ridge regression isn't good. the loss in each of the datasets is higher than 50%.  \n",
    "Therefore, **we won't be using this method**."
   ]
  },
  {
   "cell_type": "markdown",
   "metadata": {
    "id": "3jiSOE6kmjG7"
   },
   "source": [
    "## **Kernel Ridge regression**"
   ]
  },
  {
   "cell_type": "markdown",
   "metadata": {
    "id": "T0AHjysKj09S"
   },
   "source": [
    "### Numerical data"
   ]
  },
  {
   "cell_type": "markdown",
   "metadata": {
    "id": "UL2P5MXDxsNa"
   },
   "source": [
    "#### RBF kernel"
   ]
  },
  {
   "cell_type": "code",
   "execution_count": 11,
   "metadata": {
    "id": "VorzXoJJxL1t"
   },
   "outputs": [],
   "source": [
    "class KernelRidgeRegScratch():\n",
    "  '''\n",
    "  This class is an implementation of the kernel ridge regression method\n",
    "\n",
    "  Inputs:\n",
    "    - param: Regularization value (lambda)\n",
    "    - var: The variance of the RBF kernel\n",
    "\n",
    "  Outputs:\n",
    "    - fit: the learned parameters\n",
    "    - predict: the prediction using the learned parameters\n",
    "\n",
    "  '''\n",
    "\n",
    "  def __init__(self, param=1.0, var = 1):\n",
    "      self.param = param\n",
    "      self.var = var\n",
    "\n",
    "  def RBF(self, xi, xj):\n",
    "    diff = xi - xj\n",
    "    return  np.exp(-0.5 * np.dot(diff,diff) /(self.var)**2)\n",
    "\n",
    "  def fit(self, X, y):\n",
    "      \n",
    "      self.X = X\n",
    "      self.y = y\n",
    "\n",
    "      \n",
    "      # number of rows  in matrix of X \n",
    "      n = self.X.shape[0]\n",
    "\n",
    "      # Identity matrix of dimension compatible with our X_intercept Matrix\n",
    "      I = np.identity(n)\n",
    "\n",
    "\n",
    "      # We create a bias term corresponding to param for each column of X \n",
    "      I_biased = self.param * I\n",
    "\n",
    "      n = self.X.shape[0]\n",
    "\n",
    "      K = np.zeros((n,n))\n",
    "\n",
    "      for i in range(n):\n",
    "        for j in range(n):\n",
    "          #print(X[i,:])\n",
    "          K[i,j] = self.RBF(self.X[i,:], self.X[j,:])\n",
    "\n",
    "      self.K = K\n",
    "\n",
    "      betas = np.linalg.inv(K + I_biased).dot(y)\n",
    "      self.betas = betas\n",
    "\n",
    "\n",
    "  def predict(self, X):\n",
    "      betas = self.betas\n",
    "      n = X.shape[0]\n",
    "      K_predictor = np.zeros(n)\n",
    "\n",
    "      for i in range(n):\n",
    "        for j in range(len(betas)):\n",
    "          K_predictor[i] += betas[j] * self.RBF(self.X[j,:], X[i,:])\n",
    "\n",
    "\n",
    "      self.predictions = K_predictor\n",
    "      return self.predictions"
   ]
  },
  {
   "cell_type": "markdown",
   "metadata": {
    "id": "nYIqMkD1h4Zz"
   },
   "source": [
    "##### Xtr0"
   ]
  },
  {
   "cell_type": "code",
   "execution_count": 12,
   "metadata": {
    "colab": {
     "base_uri": "https://localhost:8080/"
    },
    "id": "8rOKHBQdpmUS",
    "outputId": "9045ec76-dc92-4b61-dade-1db5fe1d73c4"
   },
   "outputs": [
    {
     "name": "stdout",
     "output_type": "stream",
     "text": [
      "error:  400\n",
      "loss:  1.0\n",
      "error:  400\n",
      "loss:  1.0\n",
      "error:  400\n",
      "loss:  1.0\n",
      "error:  167\n",
      "loss:  0.4175\n",
      "error:  175\n",
      "loss:  0.4375\n",
      "error:  181\n",
      "loss:  0.4525\n",
      "error:  167\n",
      "loss:  0.4175\n",
      "error:  166\n",
      "loss:  0.415\n",
      "error:  201\n",
      "loss:  0.5025\n",
      "error:  201\n",
      "loss:  0.5025\n",
      "error:  400\n",
      "loss:  1.0\n",
      "error:  400\n",
      "loss:  1.0\n",
      "error:  400\n",
      "loss:  1.0\n",
      "error:  167\n",
      "loss:  0.4175\n",
      "error:  175\n",
      "loss:  0.4375\n",
      "error:  173\n",
      "loss:  0.4325\n",
      "error:  165\n",
      "loss:  0.4125\n",
      "error:  169\n",
      "loss:  0.4225\n",
      "error:  201\n",
      "loss:  0.5025\n",
      "error:  201\n",
      "loss:  0.5025\n",
      "error:  400\n",
      "loss:  1.0\n",
      "error:  400\n",
      "loss:  1.0\n",
      "error:  400\n",
      "loss:  1.0\n",
      "error:  167\n",
      "loss:  0.4175\n",
      "error:  175\n",
      "loss:  0.4375\n",
      "error:  165\n",
      "loss:  0.4125\n",
      "error:  166\n",
      "loss:  0.415\n",
      "error:  201\n",
      "loss:  0.5025\n",
      "error:  201\n",
      "loss:  0.5025\n",
      "error:  201\n",
      "loss:  0.5025\n",
      "error:  400\n",
      "loss:  1.0\n",
      "error:  400\n",
      "loss:  1.0\n",
      "error:  400\n",
      "loss:  1.0\n",
      "error:  167\n",
      "loss:  0.4175\n",
      "error:  173\n",
      "loss:  0.4325\n",
      "error:  162\n",
      "loss:  0.405\n",
      "error:  169\n",
      "loss:  0.4225\n",
      "error:  201\n",
      "loss:  0.5025\n",
      "error:  201\n",
      "loss:  0.5025\n",
      "error:  201\n",
      "loss:  0.5025\n",
      "error:  400\n",
      "loss:  1.0\n",
      "error:  400\n",
      "loss:  1.0\n",
      "error:  400\n",
      "loss:  1.0\n",
      "error:  167\n",
      "loss:  0.4175\n",
      "error:  173\n",
      "loss:  0.4325\n",
      "error:  166\n",
      "loss:  0.415\n",
      "error:  201\n",
      "loss:  0.5025\n",
      "error:  201\n",
      "loss:  0.5025\n",
      "error:  201\n",
      "loss:  0.5025\n",
      "error:  201\n",
      "loss:  0.5025\n",
      "error:  400\n",
      "loss:  1.0\n",
      "error:  400\n",
      "loss:  1.0\n",
      "error:  400\n",
      "loss:  1.0\n",
      "error:  167\n",
      "loss:  0.4175\n",
      "error:  166\n",
      "loss:  0.415\n",
      "error:  169\n",
      "loss:  0.4225\n",
      "error:  201\n",
      "loss:  0.5025\n",
      "error:  201\n",
      "loss:  0.5025\n",
      "error:  201\n",
      "loss:  0.5025\n",
      "error:  201\n",
      "loss:  0.5025\n",
      "optimal param:  0.01\n"
     ]
    }
   ],
   "source": [
    "params = np.array([1e-5, 1e-4, 1e-3, 1e-2, 1e-1, 1])\n",
    "vars = np.array([1e-5, 1e-4, 1e-3, 1e-2, 1e-1, 1,10,100,1000,10000])\n",
    "\n",
    "errors = np.zeros((len(params),len(vars)))\n",
    "losses = np.zeros((len(params),len(vars)))\n",
    "\n",
    "for i in range(len(params)):\n",
    "  for j in range((len(vars))):\n",
    "\n",
    "    param =params[i]\n",
    "    var = vars[j]\n",
    "\n",
    "    Ridge_kernel  = KernelRidgeRegScratch(param = param, var = var)\n",
    "    Ridge_kernel.fit(Xtr0_train,ytr0_train)\n",
    "\n",
    "    ypred_tr0 = np.sign(Ridge_kernel.predict(Xtr0_test))\n",
    "\n",
    "    error= np.sum((ypred_tr0 - ytr0_test) != 0)\n",
    "    loss = error/len(ytr0_test)\n",
    "\n",
    "    errors[i,j] = error\n",
    "    losses [i,j] = loss\n",
    "    print(\"error: \", error)\n",
    "    print(\"loss: \", loss)\n",
    "\n",
    "print('optimal param: ', params[np.unravel_index(errors.argmin(), errors.shape)[0]])\n",
    "\n"
   ]
  },
  {
   "cell_type": "markdown",
   "metadata": {
    "id": "cngYctwdiSII"
   },
   "source": [
    "##### Xtr1"
   ]
  },
  {
   "cell_type": "code",
   "execution_count": 13,
   "metadata": {
    "colab": {
     "base_uri": "https://localhost:8080/"
    },
    "id": "viHHpfKHiD48",
    "outputId": "d9d69e59-e1d8-49ef-953e-8208d099b5fc"
   },
   "outputs": [
    {
     "name": "stdout",
     "output_type": "stream",
     "text": [
      "error:  161\n",
      "loss:  0.4025\n",
      "error:  161\n",
      "loss:  0.4025\n",
      "error:  161\n",
      "loss:  0.4025\n",
      "error:  161\n",
      "loss:  0.4025\n",
      "error:  161\n",
      "loss:  0.4025\n",
      "error:  161\n",
      "loss:  0.4025\n",
      "error:  161\n",
      "loss:  0.4025\n",
      "error:  161\n",
      "loss:  0.4025\n",
      "error:  161\n",
      "loss:  0.4025\n",
      "error:  161\n",
      "loss:  0.4025\n",
      "error:  161\n",
      "loss:  0.4025\n",
      "error:  161\n",
      "loss:  0.4025\n",
      "error:  161\n",
      "loss:  0.4025\n",
      "error:  161\n",
      "loss:  0.4025\n",
      "error:  161\n",
      "loss:  0.4025\n",
      "error:  161\n",
      "loss:  0.4025\n",
      "error:  161\n",
      "loss:  0.4025\n",
      "error:  161\n",
      "loss:  0.4025\n",
      "error:  161\n",
      "loss:  0.4025\n",
      "error:  161\n",
      "loss:  0.4025\n",
      "error:  161\n",
      "loss:  0.4025\n",
      "error:  161\n",
      "loss:  0.4025\n",
      "error:  161\n",
      "loss:  0.4025\n",
      "error:  161\n",
      "loss:  0.4025\n",
      "error:  161\n",
      "loss:  0.4025\n",
      "error:  161\n",
      "loss:  0.4025\n",
      "error:  161\n",
      "loss:  0.4025\n",
      "error:  161\n",
      "loss:  0.4025\n",
      "error:  161\n",
      "loss:  0.4025\n",
      "error:  161\n",
      "loss:  0.4025\n",
      "error:  161\n",
      "loss:  0.4025\n",
      "error:  161\n",
      "loss:  0.4025\n",
      "error:  161\n",
      "loss:  0.4025\n",
      "error:  161\n",
      "loss:  0.4025\n",
      "error:  161\n",
      "loss:  0.4025\n",
      "error:  161\n",
      "loss:  0.4025\n",
      "error:  161\n",
      "loss:  0.4025\n",
      "error:  161\n",
      "loss:  0.4025\n",
      "error:  161\n",
      "loss:  0.4025\n",
      "error:  161\n",
      "loss:  0.4025\n",
      "error:  161\n",
      "loss:  0.4025\n",
      "error:  161\n",
      "loss:  0.4025\n",
      "error:  161\n",
      "loss:  0.4025\n",
      "error:  161\n",
      "loss:  0.4025\n",
      "error:  161\n",
      "loss:  0.4025\n",
      "error:  161\n",
      "loss:  0.4025\n",
      "error:  161\n",
      "loss:  0.4025\n",
      "error:  161\n",
      "loss:  0.4025\n",
      "error:  161\n",
      "loss:  0.4025\n",
      "error:  161\n",
      "loss:  0.4025\n",
      "error:  161\n",
      "loss:  0.4025\n",
      "error:  161\n",
      "loss:  0.4025\n",
      "error:  161\n",
      "loss:  0.4025\n",
      "error:  161\n",
      "loss:  0.4025\n",
      "error:  161\n",
      "loss:  0.4025\n",
      "error:  161\n",
      "loss:  0.4025\n",
      "error:  161\n",
      "loss:  0.4025\n",
      "error:  161\n",
      "loss:  0.4025\n",
      "error:  161\n",
      "loss:  0.4025\n",
      "error:  161\n",
      "loss:  0.4025\n",
      "optimal param:  1e-05\n"
     ]
    }
   ],
   "source": [
    "params = np.array([1e-5, 1e-4, 1e-3, 1e-2, 1e-1, 1])\n",
    "vars = np.array([1e-5, 1e-4, 1e-3, 1e-2, 1e-1, 1])\n",
    "\n",
    "errors = np.zeros((len(params),len(vars)))\n",
    "losses = np.zeros((len(params),len(vars)))\n",
    "\n",
    "for i in range(len(params)):\n",
    "  for j in range((len(vars))):\n",
    "\n",
    "    param =params[i]\n",
    "    var = vars[j]\n",
    "\n",
    "    Ridge_kernel  = KernelRidgeRegScratch(param = param, var = var)\n",
    "    Ridge_kernel.fit(Xtr1_train,ytr1_train)\n",
    "\n",
    "    ypred_tr0 = np.sign(Ridge_kernel.predict(Xtr1_test))\n",
    "\n",
    "    error= np.sum((ypred_tr1 - ytr1_test) != 0)\n",
    "    loss = error/len(ytr1_test)\n",
    "\n",
    "    errors[i,j] = error\n",
    "    losses [i,j] = loss\n",
    "    print(\"error: \", error)\n",
    "    print(\"loss: \", loss)\n",
    "\n",
    "print('optimal param: ', params[np.unravel_index(errors.argmin(), errors.shape)[0]])\n"
   ]
  },
  {
   "cell_type": "markdown",
   "metadata": {
    "id": "nlwjnYKWiUIo"
   },
   "source": [
    "##### Xtr2"
   ]
  },
  {
   "cell_type": "code",
   "execution_count": null,
   "metadata": {
    "colab": {
     "base_uri": "https://localhost:8080/",
     "height": 987
    },
    "id": "D2sHpEBciVcy",
    "outputId": "1dcd1e43-efa0-4bdf-97e7-628651eacbef"
   },
   "outputs": [],
   "source": [
    "params = np.array([1e-4, 1e-3, 1e-2, 1e-1, 1])\n",
    "vars = np.array([ 1e-2, 1e-1, 1])\n",
    "\n",
    "errors = np.zeros((len(params),len(vars)))\n",
    "losses = np.zeros((len(params),len(vars)))\n",
    "\n",
    "for i in range(len(params)):\n",
    "  for j in range((len(vars))):\n",
    "\n",
    "    param =params[i]\n",
    "    var = vars[j]\n",
    "\n",
    "    Ridge_kernel  = KernelRidgeRegScratch(param = param, var = var)\n",
    "    Ridge_kernel.fit(Xtr2_train,ytr2_train)\n",
    "\n",
    "    ypred_tr0 = np.sign(Ridge_kernel.predict(Xtr2_test))\n",
    "\n",
    "    error= np.sum((ypred_tr2 - ytr2_test) != 0)\n",
    "    loss = error/len(ytr2_test)\n",
    "\n",
    "    errors[i,j] = error\n",
    "    losses [i,j] = loss\n",
    "    print(\"error: \", error)\n",
    "    print(\"loss: \", loss)\n",
    "\n",
    "print('optimal param: ', params[np.unravel_index(errors.argmin(), errors.shape)[0]])"
   ]
  },
  {
   "cell_type": "markdown",
   "metadata": {
    "id": "lgSkRjrTimqi"
   },
   "source": [
    "As we can see, the results of the RBF kernel are also non representative. The loss is around 50%  or sometimes 100%! which is not utile for the challenge"
   ]
  },
  {
   "cell_type": "markdown",
   "metadata": {
    "id": "U81YhSQR2TnO"
   },
   "source": [
    "### Sequential data"
   ]
  },
  {
   "cell_type": "markdown",
   "metadata": {
    "id": "p7LEJ5Cm2WV3"
   },
   "source": [
    "#### Data"
   ]
  },
  {
   "cell_type": "code",
   "execution_count": null,
   "metadata": {
    "id": "ui7CnEJf2XxN"
   },
   "outputs": [],
   "source": [
    "Xtr0 = pd.read_csv(\"/content/drive/MyDrive/KM/Challenge/train/Xtr0.csv\", sep=\",\", index_col=0)\n",
    "Xtr0 = np.array(Xtr0)\n",
    "\n",
    "N = Xtr0.shape[0]\n",
    "\n",
    "ytr0 = pd.read_csv(\"/content/drive/MyDrive/KM/Challenge/train/Ytr0.csv\", index_col=0)\n",
    "ytr0 = np.array(ytr0).reshape(N)\n",
    "ytr0 = 2*ytr0 - 1\n",
    "\n"
   ]
  },
  {
   "cell_type": "code",
   "execution_count": null,
   "metadata": {
    "id": "AVQlASXq85_o"
   },
   "outputs": [],
   "source": [
    "Xtr1 = pd.read_csv(\"/content/drive/MyDrive/KM/Challenge/train/Xtr1.csv\", sep=\",\", index_col=0)\n",
    "Xtr1 = np.array(Xtr1)\n",
    "\n",
    "N = Xtr1.shape[0]\n",
    "\n",
    "ytr1 = pd.read_csv(\"/content/drive/MyDrive/KM/Challenge/train/Ytr1.csv\", index_col=0)\n",
    "ytr1 = np.array(ytr1).reshape(N)\n",
    "ytr1 = 2*ytr1 - 1\n",
    "\n"
   ]
  },
  {
   "cell_type": "code",
   "execution_count": null,
   "metadata": {
    "id": "dgwRQbEq86I2"
   },
   "outputs": [],
   "source": [
    "Xtr2 = pd.read_csv(\"/content/drive/MyDrive/KM/Challenge/train/Xtr2.csv\", sep=\",\", index_col=0)\n",
    "Xtr2 = np.array(Xtr2)\n",
    "\n",
    "N = Xtr2.shape[0]\n",
    "\n",
    "ytr2 = pd.read_csv(\"/content/drive/MyDrive/KM/Challenge/train/Ytr2.csv\", index_col=0)\n",
    "ytr2 = np.array(ytr2).reshape(N)\n",
    "ytr2 = 2*ytr2 - 1\n",
    "\n"
   ]
  },
  {
   "cell_type": "code",
   "execution_count": null,
   "metadata": {
    "id": "q3y1GJUk3Wfk"
   },
   "outputs": [],
   "source": [
    "Xtr0_train, Xtr0_test, ytr0_train, ytr0_test = train_test_split( Xtr0, ytr0, test_size=0.25, random_state=42)\n",
    "Xtr1_train, Xtr1_test, ytr1_train, ytr1_test = train_test_split( Xtr1, ytr1, test_size=0.25, random_state=42)\n",
    "Xtr2_train, Xtr2_test, ytr2_train, ytr2_test = train_test_split( Xtr2, ytr2, test_size=0.25, random_state=42)"
   ]
  },
  {
   "cell_type": "code",
   "execution_count": null,
   "metadata": {
    "id": "rLErfQd9ZJgn"
   },
   "outputs": [],
   "source": [
    "Xte0 = pd.read_csv(\"/content/drive/MyDrive/KM/Challenge/test/Xte0.csv\", sep=\",\", index_col=0)\n",
    "Xte0 = np.array(Xte0)\n",
    "\n",
    "Xte1 = pd.read_csv(\"/content/drive/MyDrive/KM/Challenge/test/Xte1.csv\", sep=\",\", index_col=0)\n",
    "Xte1 = np.array(Xte1)\n",
    "\n",
    "Xte2 = pd.read_csv(\"/content/drive/MyDrive/KM/Challenge/test/Xte2.csv\", sep=\",\", index_col=0)\n",
    "Xte2 = np.array(Xte2)"
   ]
  },
  {
   "cell_type": "markdown",
   "metadata": {
    "id": "htq0bden0x_b"
   },
   "source": [
    "#### k-spectrum kernel"
   ]
  },
  {
   "cell_type": "markdown",
   "metadata": {
    "id": "0IqZH0vpkV2W"
   },
   "source": [
    "In this section, we use the k-spectrum kernel with kernel ridge regression.   \n",
    "We assess the functioning of this method using several parameters: **k =6, 7, 8, 9**"
   ]
  },
  {
   "cell_type": "code",
   "execution_count": null,
   "metadata": {
    "id": "9Fg9vQUv3iDH"
   },
   "outputs": [],
   "source": [
    "def make_corres(corpus,k):\n",
    "    '''\n",
    "    make_corres\n",
    "    \n",
    "    Args:\n",
    "        corpus: the letters that compose the sequences\n",
    "        k: length of the sequences\n",
    "        \n",
    "    Returns:\n",
    "        corres: dictionnary of correspondances between sequences of length k and indexes\n",
    "    '''\n",
    "    corres = dict()\n",
    "    count = 0\n",
    "    for u in product(corpus,repeat=k):\n",
    "        s = ''\n",
    "        for i in range(k):\n",
    "            s += u[i]\n",
    "        corres[s] = count\n",
    "        count += 1\n",
    "    return corres\n",
    "            \n",
    "def kspectrum_kernel(x1, x2, k, corres):   \n",
    "    '''\n",
    "    kspectrum_kernel\n",
    "    \n",
    "    Args:\n",
    "        x1, x2: data points\n",
    "        corres: dictionnary of correspondances between sequences of length k and indexes\n",
    "        k: length of the sequences\n",
    "        \n",
    "    Returns:\n",
    "        k(x1,x2): the kernel evaluated at points x1 and x2 (bormalized dot product between feature vectors)\n",
    "    '''\n",
    "    sample1 = x1[0]\n",
    "    sample2 = x2[0]\n",
    "    \n",
    "    N = 4**k\n",
    "    \n",
    "    #sparse vectors could be used in case of high space complexity, but this is not used systematically as their appending is costly\n",
    "    feature1 = np.zeros(N)\n",
    "    feature2 = np.zeros(N)\n",
    "    \n",
    "#     feature1 = csr_matrix((1,N), dtype=\"int32\")\n",
    "#     feature2 = csr_matrix((1,N), dtype=\"int32\")\n",
    "    \n",
    "    for i in range(len(sample1)-k+1):\n",
    "        #extract sub-sequences\n",
    "        segment1 = sample1[i:i+k]\n",
    "        segment2 = sample2[i:i+k]\n",
    "        \n",
    "        #update feature vectors\n",
    "        feature1[corres[segment1]] += 1\n",
    "        feature2[corres[segment2]] += 1\n",
    "        \n",
    "    #norrmalize feature vectors\n",
    "    feature1 = feature1/np.sqrt(feature1.dot(feature1))\n",
    "    feature2 = feature2/np.sqrt(feature2.dot(feature2))\n",
    "    \n",
    "    return feature1.dot(feature2)\n",
    "\n",
    "def gram_spectrum(X, X_test, corres, k):\n",
    "    '''\n",
    "    gram_spectrum\n",
    "    \n",
    "    Args:\n",
    "        X, X_test: training and test data\n",
    "        corres: dictionnary of correspondances between sequences of length k and indexes\n",
    "        k: length of the sequences\n",
    "        \n",
    "    Returns:\n",
    "        K: Gram matrix of X and X_test concatenated\n",
    "    '''\n",
    "    \n",
    "    X = np.concatenate((X,X_test),axis=0)\n",
    "    \n",
    "    #dimensions\n",
    "    N = X.shape[0]\n",
    "    m = len(X[0][0])\n",
    "    n = 4**k\n",
    "    \n",
    "    #Initialize features matrix\n",
    "    #features = csr_matrix((N,n), dtype=\"int8\")\n",
    "    features = np.zeros((N,n))\n",
    "    for sample in range(N):\n",
    "        for i in range(m-k+1):\n",
    "            segment = X[sample][0][i:i+k]\n",
    "            features[sample,corres[segment]] += 1\n",
    "        #normalization\n",
    "        features[sample] = features[sample]/np.sqrt(features[sample].dot(features[sample]))\n",
    "    \n",
    "    return features.dot(features.T)"
   ]
  },
  {
   "cell_type": "code",
   "execution_count": null,
   "metadata": {
    "id": "3k97Kms80_hM"
   },
   "outputs": [],
   "source": [
    "class KernelRidgeRegScratch_spectrum():\n",
    "  '''\n",
    "  This class is an implementation of the kernel ridge regression method\n",
    "\n",
    "  Inputs:\n",
    "    - param: Regularization value (lambda)\n",
    "    - k: the width of the sequences\n",
    "    - corres: the matrix of the different sequences\n",
    "\n",
    "  Outputs:\n",
    "    - fit: the learned parameters\n",
    "    - predict: the prediction using the learned parameters\n",
    "\n",
    "  '''\n",
    "\n",
    "  def __init__(self, param=1.0, solver='closed_form', corres=None,  k = 6):\n",
    "      self.param = param\n",
    "      self.solver = solver\n",
    "      self.corres = corres\n",
    "      self.k = k\n",
    "     \n",
    "\n",
    "  def fit(self, X, y, X_test):\n",
    "      \n",
    "      self.X = X\n",
    "      self.y = y\n",
    "      self.X_test = X_test\n",
    "\n",
    "      \n",
    "      # number of rows  in matrix of X \n",
    "      n = self.X.shape[0]\n",
    "\n",
    "      # Identity matrix of dimension compatible with our X_intercept Matrix\n",
    "      I = np.identity(n)\n",
    "\n",
    "\n",
    "      # We create a bias term corresponding to param for each column of X \n",
    "      I_biased = self.param * I\n",
    "\n",
    "      n = self.X.shape[0]\n",
    "\n",
    "      K = gram_spectrum(self.X, self.X_test, self.corres, self.k)\n",
    "      \n",
    "      threshold = n\n",
    "\n",
    "      self.K = K[:threshold,:threshold]\n",
    "      self.K_test = K[threshold:,:threshold]\n",
    "\n",
    "      betas = np.linalg.inv(self.K + I_biased).dot(y)\n",
    "      self.betas = betas\n",
    "\n",
    "\n",
    "  def predict(self):\n",
    "      betas = self.betas\n",
    "      K_test = self.K_test.transpose()\n",
    "\n",
    "      K_predictor = np.dot(betas,K_test)\n",
    "\n",
    "      self.predictions = K_predictor\n",
    "      return self.predictions"
   ]
  },
  {
   "cell_type": "markdown",
   "metadata": {
    "id": "pGXtm-_1_JGg"
   },
   "source": [
    "##### Evaluation X0"
   ]
  },
  {
   "cell_type": "code",
   "execution_count": null,
   "metadata": {
    "colab": {
     "base_uri": "https://localhost:8080/"
    },
    "id": "ZzHbD-Ro83xr",
    "outputId": "fa8569a3-7707-461b-e019-097ab86a263a"
   },
   "outputs": [
    {
     "name": "stdout",
     "output_type": "stream",
     "text": [
      "error:  209\n",
      "loss:  0.418\n",
      "error:  209\n",
      "loss:  0.418\n",
      "error:  208\n",
      "loss:  0.416\n",
      "error:  206\n",
      "loss:  0.412\n",
      "error:  201\n",
      "loss:  0.402\n",
      "error:  208\n",
      "loss:  0.416\n",
      "error:  209\n",
      "loss:  0.418\n",
      "error:  187\n",
      "loss:  0.374\n",
      "optimal param:  1.0\n",
      "optimal error:  187.0\n"
     ]
    }
   ],
   "source": [
    "corpus = ['A','C','G','T']\n",
    "k = 6\n",
    "corres = make_corres(corpus,k)\n",
    "\n",
    "params = np.array([1e-5, 1e-4, 1e-3, 1e-2,3e-2, 7e-2, 1e-1, 1])\n",
    "\n",
    "errors = np.zeros(len(params))\n",
    "losses = np.zeros(len(params))\n",
    "\n",
    "for i in range(len(params)):\n",
    "  param =params[i]\n",
    "\n",
    "  Ridge = KernelRidgeRegScratch_spectrum(param = param, corres = corres, k = k)\n",
    "  Ridge.fit(Xtr0_train,ytr0_train, Xtr0_test)\n",
    "\n",
    "  ypred = np.sign(Ridge.predict())\n",
    "\n",
    "  error= np.sum((ypred - ytr0_test) != 0)\n",
    "  loss = error/len(ytr0_test)\n",
    "\n",
    "  errors[i] = error\n",
    "  losses [i] = loss\n",
    "  print(\"error: \", error)\n",
    "  print(\"loss: \", loss)\n",
    "\n",
    "print('optimal param: ', params[np.argmin(errors)])\n",
    "print('optimal error: ', errors[np.argmin(errors)])"
   ]
  },
  {
   "cell_type": "code",
   "execution_count": null,
   "metadata": {
    "colab": {
     "base_uri": "https://localhost:8080/"
    },
    "id": "m0yHSmDd9qyc",
    "outputId": "c37ecdeb-a082-4f16-c163-15bcd515bf98"
   },
   "outputs": [
    {
     "name": "stdout",
     "output_type": "stream",
     "text": [
      "error:  177\n",
      "loss:  0.354\n",
      "error:  181\n",
      "loss:  0.362\n",
      "error:  198\n",
      "loss:  0.396\n",
      "optimal param:  1\n",
      "optimal error:  177.0\n"
     ]
    }
   ],
   "source": [
    "corpus = ['A','C','G','T']\n",
    "k = 7\n",
    "corres = make_corres(corpus,k)\n",
    "\n",
    "params = np.array([1e-5, 1e-4, 1e-3, 1e-2,3e-2, 7e-2, 1e-1, 1])\n",
    "\n",
    "errors = np.zeros(len(params))\n",
    "losses = np.zeros(len(params))\n",
    "\n",
    "for i in range(len(params)):\n",
    "  param =params[i]\n",
    "\n",
    "  Ridge = KernelRidgeRegScratch_spectrum(param = param, corres = corres, k = k)\n",
    "  Ridge.fit(Xtr0_train,ytr0_train, Xtr0_test)\n",
    "\n",
    "  ypred = np.sign(Ridge.predict())\n",
    "\n",
    "  error= np.sum((ypred - ytr0_test) != 0)\n",
    "  loss = error/len(ytr0_test)\n",
    "\n",
    "  errors[i] = error\n",
    "  losses [i] = loss\n",
    "  print(\"error: \", error)\n",
    "  print(\"loss: \", loss)\n",
    "\n",
    "print('optimal param: ', params[np.argmin(errors)])\n",
    "print('optimal error: ', errors[np.argmin(errors)])"
   ]
  },
  {
   "cell_type": "code",
   "execution_count": null,
   "metadata": {
    "colab": {
     "base_uri": "https://localhost:8080/"
    },
    "id": "YI7NrdDB-ISl",
    "outputId": "04794080-c227-4665-f19f-73cfa43016f0"
   },
   "outputs": [
    {
     "name": "stdout",
     "output_type": "stream",
     "text": [
      "error:  181\n",
      "loss:  0.362\n",
      "error:  181\n",
      "loss:  0.362\n",
      "error:  181\n",
      "loss:  0.362\n",
      "error:  182\n",
      "loss:  0.364\n",
      "error:  184\n",
      "loss:  0.368\n",
      "error:  184\n",
      "loss:  0.368\n",
      "error:  184\n",
      "loss:  0.368\n",
      "error:  184\n",
      "loss:  0.368\n",
      "optimal param:  1e-05\n",
      "optimal error:  181.0\n",
      "optimal loss:  0.362\n"
     ]
    }
   ],
   "source": [
    "corpus = ['A','C','G','T']\n",
    "k = 8\n",
    "corres = make_corres(corpus,k)\n",
    "\n",
    "params = np.array([1e-5, 1e-4, 1e-3, 1e-2,3e-2, 7e-2, 1e-1, 1])\n",
    "\n",
    "errors = np.zeros(len(params))\n",
    "losses = np.zeros(len(params))\n",
    "\n",
    "for i in range(len(params)):\n",
    "  param =params[i]\n",
    "\n",
    "  Ridge = KernelRidgeRegScratch_spectrum(param = param, corres = corres, k = k)\n",
    "  Ridge.fit(Xtr0_train,ytr0_train, Xtr0_test)\n",
    "\n",
    "  ypred = np.sign(Ridge.predict())\n",
    "\n",
    "  error= np.sum((ypred - ytr0_test) != 0)\n",
    "  loss = error/len(ytr0_test)\n",
    "\n",
    "  errors[i] = error\n",
    "  losses [i] = loss\n",
    "  print(\"error: \", error)\n",
    "  print(\"loss: \", loss)\n",
    "\n",
    "print('optimal param: ', params[np.argmin(errors)])\n",
    "print('optimal error: ', errors[np.argmin(errors)])\n",
    "print('optimal loss: ', losses[np.argmin(errors)])"
   ]
  },
  {
   "cell_type": "code",
   "execution_count": null,
   "metadata": {
    "colab": {
     "base_uri": "https://localhost:8080/"
    },
    "id": "1o5dWlhr-Rtx",
    "outputId": "dae588c0-1562-4708-ab01-4effcdb7c0e0"
   },
   "outputs": [
    {
     "name": "stdout",
     "output_type": "stream",
     "text": [
      "error:  189\n",
      "loss:  0.378\n",
      "error:  189\n",
      "loss:  0.378\n",
      "error:  189\n",
      "loss:  0.378\n",
      "error:  188\n",
      "loss:  0.376\n",
      "error:  187\n",
      "loss:  0.374\n",
      "error:  187\n",
      "loss:  0.374\n",
      "error:  185\n",
      "loss:  0.37\n",
      "error:  178\n",
      "loss:  0.356\n",
      "optimal param:  1.0\n",
      "optimal error:  178.0\n",
      "optimal loss:  0.356\n"
     ]
    }
   ],
   "source": [
    "corpus = ['A','C','G','T']\n",
    "k = 9\n",
    "corres = make_corres(corpus,k)\n",
    "\n",
    "params = np.array([1e-5, 1e-4, 1e-3, 1e-2,3e-2, 7e-2, 1e-1, 1])\n",
    "\n",
    "errors = np.zeros(len(params))\n",
    "losses = np.zeros(len(params))\n",
    "\n",
    "for i in range(len(params)):\n",
    "  param =params[i]\n",
    "\n",
    "  Ridge = KernelRidgeRegScratch_spectrum(param = param, corres = corres, k = k)\n",
    "  Ridge.fit(Xtr0_train,ytr0_train, Xtr0_test)\n",
    "\n",
    "  ypred = np.sign(Ridge.predict())\n",
    "\n",
    "  error= np.sum((ypred - ytr0_test) != 0)\n",
    "  loss = error/len(ytr0_test)\n",
    "\n",
    "  errors[i] = error\n",
    "  losses [i] = loss\n",
    "  print(\"error: \", error)\n",
    "  print(\"loss: \", loss)\n",
    "\n",
    "print('optimal param: ', params[np.argmin(errors)])\n",
    "print('optimal error: ', errors[np.argmin(errors)])\n",
    "print('optimal loss: ', losses[np.argmin(errors)])"
   ]
  },
  {
   "cell_type": "markdown",
   "metadata": {
    "id": "KvpZyTzvFN69"
   },
   "source": [
    "###### Submission"
   ]
  },
  {
   "cell_type": "markdown",
   "metadata": {
    "id": "LxIZ-xt-k7En"
   },
   "source": [
    "As we can see, the best results are given with k =7 and param =1. Hence we'll use them to apply the method on the test dataset for the challenge submission"
   ]
  },
  {
   "cell_type": "code",
   "execution_count": null,
   "metadata": {
    "id": "XB7TcUd-bFoJ"
   },
   "outputs": [],
   "source": [
    "corpus = ['A','C','G','T']\n",
    "k = 7\n",
    "corres = make_corres(corpus,k)\n",
    "param = 1\n",
    "\n",
    "Ridge = KernelRidgeRegScratch_spectrum(param = param, corres = corres, k = k)\n",
    "\n",
    "Ridge.fit(Xtr0,ytr0, Xte0)\n",
    "\n",
    "ypred = np.sign(Ridge.predict())\n"
   ]
  },
  {
   "cell_type": "code",
   "execution_count": null,
   "metadata": {
    "colab": {
     "base_uri": "https://localhost:8080/",
     "height": 419
    },
    "id": "KpGBui85a3FP",
    "outputId": "7ab87d5b-17ac-47a9-ed87-a064b62f9534"
   },
   "outputs": [
    {
     "data": {
      "text/html": [
       "<div>\n",
       "<style scoped>\n",
       "    .dataframe tbody tr th:only-of-type {\n",
       "        vertical-align: middle;\n",
       "    }\n",
       "\n",
       "    .dataframe tbody tr th {\n",
       "        vertical-align: top;\n",
       "    }\n",
       "\n",
       "    .dataframe thead th {\n",
       "        text-align: right;\n",
       "    }\n",
       "</style>\n",
       "<table border=\"1\" class=\"dataframe\">\n",
       "  <thead>\n",
       "    <tr style=\"text-align: right;\">\n",
       "      <th></th>\n",
       "      <th>id</th>\n",
       "      <th>Bound</th>\n",
       "    </tr>\n",
       "  </thead>\n",
       "  <tbody>\n",
       "    <tr>\n",
       "      <th>0</th>\n",
       "      <td>0</td>\n",
       "      <td>1</td>\n",
       "    </tr>\n",
       "    <tr>\n",
       "      <th>1</th>\n",
       "      <td>1</td>\n",
       "      <td>1</td>\n",
       "    </tr>\n",
       "    <tr>\n",
       "      <th>2</th>\n",
       "      <td>2</td>\n",
       "      <td>1</td>\n",
       "    </tr>\n",
       "    <tr>\n",
       "      <th>3</th>\n",
       "      <td>3</td>\n",
       "      <td>1</td>\n",
       "    </tr>\n",
       "    <tr>\n",
       "      <th>4</th>\n",
       "      <td>4</td>\n",
       "      <td>-1</td>\n",
       "    </tr>\n",
       "    <tr>\n",
       "      <th>...</th>\n",
       "      <td>...</td>\n",
       "      <td>...</td>\n",
       "    </tr>\n",
       "    <tr>\n",
       "      <th>995</th>\n",
       "      <td>995</td>\n",
       "      <td>-1</td>\n",
       "    </tr>\n",
       "    <tr>\n",
       "      <th>996</th>\n",
       "      <td>996</td>\n",
       "      <td>-1</td>\n",
       "    </tr>\n",
       "    <tr>\n",
       "      <th>997</th>\n",
       "      <td>997</td>\n",
       "      <td>-1</td>\n",
       "    </tr>\n",
       "    <tr>\n",
       "      <th>998</th>\n",
       "      <td>998</td>\n",
       "      <td>1</td>\n",
       "    </tr>\n",
       "    <tr>\n",
       "      <th>999</th>\n",
       "      <td>999</td>\n",
       "      <td>-1</td>\n",
       "    </tr>\n",
       "  </tbody>\n",
       "</table>\n",
       "<p>1000 rows × 2 columns</p>\n",
       "</div>"
      ],
      "text/plain": [
       "      id  Bound\n",
       "0      0      1\n",
       "1      1      1\n",
       "2      2      1\n",
       "3      3      1\n",
       "4      4     -1\n",
       "..   ...    ...\n",
       "995  995     -1\n",
       "996  996     -1\n",
       "997  997     -1\n",
       "998  998      1\n",
       "999  999     -1\n",
       "\n",
       "[1000 rows x 2 columns]"
      ]
     },
     "execution_count": 25,
     "metadata": {
      "tags": []
     },
     "output_type": "execute_result"
    }
   ],
   "source": [
    "rep = ypred.astype(\"int8\")\n",
    "df_rep1 = pd.DataFrame(data=np.array([range(1000),rep]).T, columns=[\"id\", \"Bound\"])\n",
    "df_rep1"
   ]
  },
  {
   "cell_type": "markdown",
   "metadata": {
    "id": "Jst_hIP6FRMS"
   },
   "source": [
    "##### Evaluation X1"
   ]
  },
  {
   "cell_type": "code",
   "execution_count": null,
   "metadata": {
    "colab": {
     "base_uri": "https://localhost:8080/"
    },
    "id": "hUlnSSRDFY6Q",
    "outputId": "e1be7b1b-521a-4254-eb46-8a6780c6128a"
   },
   "outputs": [
    {
     "name": "stdout",
     "output_type": "stream",
     "text": [
      "error:  198\n",
      "loss:  0.396\n",
      "error:  199\n",
      "loss:  0.398\n",
      "error:  198\n",
      "loss:  0.396\n",
      "error:  200\n",
      "loss:  0.4\n",
      "error:  197\n",
      "loss:  0.394\n",
      "error:  204\n",
      "loss:  0.408\n",
      "error:  198\n",
      "loss:  0.396\n",
      "error:  176\n",
      "loss:  0.352\n",
      "optimal param:  1.0\n",
      "optimal error:  176.0\n"
     ]
    }
   ],
   "source": [
    "corpus = ['A','C','G','T']\n",
    "k = 6\n",
    "corres = make_corres(corpus,k)\n",
    "\n",
    "params = np.array([1e-5, 1e-4, 1e-3, 1e-2,3e-2, 7e-2, 1e-1, 1])\n",
    "\n",
    "errors = np.zeros(len(params))\n",
    "losses = np.zeros(len(params))\n",
    "\n",
    "for i in range(len(params)):\n",
    "  param =params[i]\n",
    "\n",
    "  Ridge = KernelRidgeRegScratch_spectrum(param = param, corres = corres, k = k)\n",
    "  Ridge.fit(Xtr1_train,ytr1_train, Xtr1_test)\n",
    "\n",
    "  ypred = np.sign(Ridge.predict())\n",
    "\n",
    "  error= np.sum((ypred - ytr1_test) != 0)\n",
    "  loss = error/len(ytr1_test)\n",
    "\n",
    "  errors[i] = error\n",
    "  losses [i] = loss\n",
    "  print(\"error: \", error)\n",
    "  print(\"loss: \", loss)\n",
    "\n",
    "print('optimal param: ', params[np.argmin(errors)])\n",
    "print('optimal error: ', errors[np.argmin(errors)])"
   ]
  },
  {
   "cell_type": "code",
   "execution_count": null,
   "metadata": {
    "colab": {
     "base_uri": "https://localhost:8080/"
    },
    "id": "otd3gTxhGArL",
    "outputId": "f04d82e2-ff7e-4712-923a-856b4b3aba29"
   },
   "outputs": [
    {
     "name": "stdout",
     "output_type": "stream",
     "text": [
      "error:  188\n",
      "loss:  0.376\n",
      "error:  188\n",
      "loss:  0.376\n",
      "error:  188\n",
      "loss:  0.376\n",
      "error:  187\n",
      "loss:  0.374\n",
      "error:  188\n",
      "loss:  0.376\n",
      "error:  184\n",
      "loss:  0.368\n",
      "error:  183\n",
      "loss:  0.366\n",
      "error:  171\n",
      "loss:  0.342\n",
      "optimal param:  1.0\n",
      "optimal error:  171.0\n"
     ]
    }
   ],
   "source": [
    "corpus = ['A','C','G','T']\n",
    "k = 7\n",
    "corres = make_corres(corpus,k)\n",
    "\n",
    "params = np.array([1e-5, 1e-4, 1e-3, 1e-2,3e-2, 7e-2, 1e-1, 1])\n",
    "\n",
    "errors = np.zeros(len(params))\n",
    "losses = np.zeros(len(params))\n",
    "\n",
    "for i in range(len(params)):\n",
    "  param =params[i]\n",
    "\n",
    "  Ridge = KernelRidgeRegScratch_spectrum(param = param, corres = corres, k = k)\n",
    "  Ridge.fit(Xtr1_train,ytr1_train, Xtr1_test)\n",
    "\n",
    "  ypred = np.sign(Ridge.predict())\n",
    "\n",
    "  error= np.sum((ypred - ytr1_test) != 0)\n",
    "  loss = error/len(ytr1_test)\n",
    "\n",
    "  errors[i] = error\n",
    "  losses [i] = loss\n",
    "  print(\"error: \", error)\n",
    "  print(\"loss: \", loss)\n",
    "\n",
    "print('optimal param: ', params[np.argmin(errors)])\n",
    "print('optimal error: ', errors[np.argmin(errors)])"
   ]
  },
  {
   "cell_type": "code",
   "execution_count": null,
   "metadata": {
    "colab": {
     "base_uri": "https://localhost:8080/"
    },
    "id": "wC9yJn1IGRgS",
    "outputId": "518d1b64-247e-4ad8-bd34-186b30041f91"
   },
   "outputs": [
    {
     "name": "stdout",
     "output_type": "stream",
     "text": [
      "error:  168\n",
      "loss:  0.336\n",
      "error:  168\n",
      "loss:  0.336\n",
      "error:  168\n",
      "loss:  0.336\n",
      "error:  169\n",
      "loss:  0.338\n",
      "error:  170\n",
      "loss:  0.34\n",
      "error:  169\n",
      "loss:  0.338\n",
      "error:  168\n",
      "loss:  0.336\n",
      "error:  169\n",
      "loss:  0.338\n",
      "optimal param:  1e-05\n",
      "optimal error:  168.0\n"
     ]
    }
   ],
   "source": [
    "corpus = ['A','C','G','T']\n",
    "k = 8\n",
    "corres = make_corres(corpus,k)\n",
    "\n",
    "params = np.array([1e-5, 1e-4, 1e-3, 1e-2,3e-2, 7e-2, 1e-1, 1])\n",
    "\n",
    "errors = np.zeros(len(params))\n",
    "losses = np.zeros(len(params))\n",
    "\n",
    "for i in range(len(params)):\n",
    "  param =params[i]\n",
    "\n",
    "  Ridge = KernelRidgeRegScratch_spectrum(param = param, corres = corres, k = k)\n",
    "  Ridge.fit(Xtr1_train,ytr1_train, Xtr1_test)\n",
    "\n",
    "  ypred = np.sign(Ridge.predict())\n",
    "\n",
    "  error= np.sum((ypred - ytr1_test) != 0)\n",
    "  loss = error/len(ytr1_test)\n",
    "\n",
    "  errors[i] = error\n",
    "  losses [i] = loss\n",
    "  print(\"error: \", error)\n",
    "  print(\"loss: \", loss)\n",
    "\n",
    "print('optimal param: ', params[np.argmin(errors)])\n",
    "print('optimal error: ', errors[np.argmin(errors)])"
   ]
  },
  {
   "cell_type": "code",
   "execution_count": null,
   "metadata": {
    "colab": {
     "base_uri": "https://localhost:8080/"
    },
    "id": "BxrgV0ygJjPK",
    "outputId": "60614cb1-d3fa-4f85-bb3e-4fc336942842"
   },
   "outputs": [
    {
     "name": "stdout",
     "output_type": "stream",
     "text": [
      "error:  188\n",
      "loss:  0.376\n",
      "error:  188\n",
      "loss:  0.376\n",
      "error:  188\n",
      "loss:  0.376\n",
      "error:  187\n",
      "loss:  0.374\n",
      "error:  186\n",
      "loss:  0.372\n",
      "error:  185\n",
      "loss:  0.37\n",
      "error:  185\n",
      "loss:  0.37\n",
      "error:  184\n",
      "loss:  0.368\n",
      "optimal param:  1.0\n",
      "optimal error:  184.0\n"
     ]
    }
   ],
   "source": [
    "corpus = ['A','C','G','T']\n",
    "k = 9\n",
    "corres = make_corres(corpus,k)\n",
    "\n",
    "params = np.array([1e-5, 1e-4, 1e-3, 1e-2,3e-2, 7e-2, 1e-1, 1])\n",
    "\n",
    "errors = np.zeros(len(params))\n",
    "losses = np.zeros(len(params))\n",
    "\n",
    "for i in range(len(params)):\n",
    "  param =params[i]\n",
    "\n",
    "  Ridge = KernelRidgeRegScratch_spectrum(param = param, corres = corres, k = k)\n",
    "  Ridge.fit(Xtr1_train,ytr1_train, Xtr1_test)\n",
    "\n",
    "  ypred = np.sign(Ridge.predict())\n",
    "\n",
    "  error= np.sum((ypred - ytr1_test) != 0)\n",
    "  loss = error/len(ytr1_test)\n",
    "\n",
    "  errors[i] = error\n",
    "  losses [i] = loss\n",
    "  print(\"error: \", error)\n",
    "  print(\"loss: \", loss)\n",
    "\n",
    "print('optimal param: ', params[np.argmin(errors)])\n",
    "print('optimal error: ', errors[np.argmin(errors)])"
   ]
  },
  {
   "cell_type": "markdown",
   "metadata": {
    "id": "xB56iDaqdySs"
   },
   "source": [
    "###### Submission\n"
   ]
  },
  {
   "cell_type": "markdown",
   "metadata": {
    "id": "mFkDY1rblVDc"
   },
   "source": [
    "As we can see, the best results are given with k =8 and param = 0.1. Hence we'll use them to apply the method on the test dataset for the challenge submission"
   ]
  },
  {
   "cell_type": "code",
   "execution_count": null,
   "metadata": {
    "id": "bPQ2Ohfsd04M"
   },
   "outputs": [],
   "source": [
    "corpus = ['A','C','G','T']\n",
    "k = 8\n",
    "corres = make_corres(corpus,k)\n",
    "param = 1e-1\n",
    "\n",
    "Ridge = KernelRidgeRegScratch_spectrum(param = param, corres = corres, k = k)\n",
    "\n",
    "Ridge.fit(Xtr1,ytr1, Xte1)\n",
    "\n",
    "ypred = np.sign(Ridge.predict())"
   ]
  },
  {
   "cell_type": "code",
   "execution_count": null,
   "metadata": {
    "colab": {
     "base_uri": "https://localhost:8080/",
     "height": 419
    },
    "id": "-CtxwWTFeJE4",
    "outputId": "48aa3dd3-1f77-400f-82d2-15e13900529a"
   },
   "outputs": [
    {
     "data": {
      "text/html": [
       "<div>\n",
       "<style scoped>\n",
       "    .dataframe tbody tr th:only-of-type {\n",
       "        vertical-align: middle;\n",
       "    }\n",
       "\n",
       "    .dataframe tbody tr th {\n",
       "        vertical-align: top;\n",
       "    }\n",
       "\n",
       "    .dataframe thead th {\n",
       "        text-align: right;\n",
       "    }\n",
       "</style>\n",
       "<table border=\"1\" class=\"dataframe\">\n",
       "  <thead>\n",
       "    <tr style=\"text-align: right;\">\n",
       "      <th></th>\n",
       "      <th>id</th>\n",
       "      <th>Bound</th>\n",
       "    </tr>\n",
       "  </thead>\n",
       "  <tbody>\n",
       "    <tr>\n",
       "      <th>0</th>\n",
       "      <td>1000</td>\n",
       "      <td>-1</td>\n",
       "    </tr>\n",
       "    <tr>\n",
       "      <th>1</th>\n",
       "      <td>1001</td>\n",
       "      <td>1</td>\n",
       "    </tr>\n",
       "    <tr>\n",
       "      <th>2</th>\n",
       "      <td>1002</td>\n",
       "      <td>1</td>\n",
       "    </tr>\n",
       "    <tr>\n",
       "      <th>3</th>\n",
       "      <td>1003</td>\n",
       "      <td>-1</td>\n",
       "    </tr>\n",
       "    <tr>\n",
       "      <th>4</th>\n",
       "      <td>1004</td>\n",
       "      <td>-1</td>\n",
       "    </tr>\n",
       "    <tr>\n",
       "      <th>...</th>\n",
       "      <td>...</td>\n",
       "      <td>...</td>\n",
       "    </tr>\n",
       "    <tr>\n",
       "      <th>995</th>\n",
       "      <td>1995</td>\n",
       "      <td>-1</td>\n",
       "    </tr>\n",
       "    <tr>\n",
       "      <th>996</th>\n",
       "      <td>1996</td>\n",
       "      <td>1</td>\n",
       "    </tr>\n",
       "    <tr>\n",
       "      <th>997</th>\n",
       "      <td>1997</td>\n",
       "      <td>-1</td>\n",
       "    </tr>\n",
       "    <tr>\n",
       "      <th>998</th>\n",
       "      <td>1998</td>\n",
       "      <td>-1</td>\n",
       "    </tr>\n",
       "    <tr>\n",
       "      <th>999</th>\n",
       "      <td>1999</td>\n",
       "      <td>-1</td>\n",
       "    </tr>\n",
       "  </tbody>\n",
       "</table>\n",
       "<p>1000 rows × 2 columns</p>\n",
       "</div>"
      ],
      "text/plain": [
       "       id  Bound\n",
       "0    1000     -1\n",
       "1    1001      1\n",
       "2    1002      1\n",
       "3    1003     -1\n",
       "4    1004     -1\n",
       "..    ...    ...\n",
       "995  1995     -1\n",
       "996  1996      1\n",
       "997  1997     -1\n",
       "998  1998     -1\n",
       "999  1999     -1\n",
       "\n",
       "[1000 rows x 2 columns]"
      ]
     },
     "execution_count": 29,
     "metadata": {
      "tags": []
     },
     "output_type": "execute_result"
    }
   ],
   "source": [
    "rep = ypred.astype(\"int8\")\n",
    "df_rep2 = pd.DataFrame(data=np.array([range(1000,2000),rep]).T, columns=[\"id\", \"Bound\"])\n",
    "df_rep2"
   ]
  },
  {
   "cell_type": "markdown",
   "metadata": {
    "id": "Q__wiV5jIQPZ"
   },
   "source": [
    "##### Evaluation X2"
   ]
  },
  {
   "cell_type": "code",
   "execution_count": null,
   "metadata": {
    "colab": {
     "base_uri": "https://localhost:8080/"
    },
    "id": "b6VK9ZmcIUYo",
    "outputId": "e8416e80-5047-4ed4-f8bc-2fc37c6adee8"
   },
   "outputs": [
    {
     "name": "stdout",
     "output_type": "stream",
     "text": [
      "error:  162\n",
      "loss:  0.324\n",
      "error:  162\n",
      "loss:  0.324\n",
      "error:  161\n",
      "loss:  0.322\n",
      "error:  159\n",
      "loss:  0.318\n",
      "error:  153\n",
      "loss:  0.306\n",
      "error:  150\n",
      "loss:  0.3\n",
      "error:  148\n",
      "loss:  0.296\n",
      "error:  141\n",
      "loss:  0.282\n",
      "optimal param:  1.0\n",
      "optimal error:  141.0\n"
     ]
    }
   ],
   "source": [
    "corpus = ['A','C','G','T']\n",
    "k = 6\n",
    "corres = make_corres(corpus,k)\n",
    "\n",
    "params = np.array([1e-5, 1e-4, 1e-3, 1e-2,3e-2, 7e-2, 1e-1, 1])\n",
    "\n",
    "errors = np.zeros(len(params))\n",
    "losses = np.zeros(len(params))\n",
    "\n",
    "for i in range(len(params)):\n",
    "  param =params[i]\n",
    "\n",
    "  Ridge = KernelRidgeRegScratch_spectrum(param = param, corres = corres, k = k)\n",
    "  Ridge.fit(Xtr2_train,ytr2_train, Xtr2_test)\n",
    "\n",
    "  ypred = np.sign(Ridge.predict())\n",
    "\n",
    "  error= np.sum((ypred - ytr2_test) != 0)\n",
    "  loss = error/len(ytr2_test)\n",
    "\n",
    "  errors[i] = error\n",
    "  losses [i] = loss\n",
    "  print(\"error: \", error)\n",
    "  print(\"loss: \", loss)\n",
    "\n",
    "print('optimal param: ', params[np.argmin(errors)])\n",
    "print('optimal error: ', errors[np.argmin(errors)])"
   ]
  },
  {
   "cell_type": "code",
   "execution_count": null,
   "metadata": {
    "colab": {
     "base_uri": "https://localhost:8080/"
    },
    "id": "slk5ayNaJUVY",
    "outputId": "11cd978c-4cc6-44b1-c470-d1ecdcea1b77"
   },
   "outputs": [
    {
     "name": "stdout",
     "output_type": "stream",
     "text": [
      "error:  141\n",
      "loss:  0.282\n",
      "error:  141\n",
      "loss:  0.282\n",
      "error:  140\n",
      "loss:  0.28\n",
      "error:  138\n",
      "loss:  0.276\n",
      "error:  138\n",
      "loss:  0.276\n",
      "error:  131\n",
      "loss:  0.262\n",
      "error:  134\n",
      "loss:  0.268\n",
      "error:  130\n",
      "loss:  0.26\n",
      "optimal param:  1.0\n",
      "optimal error:  130.0\n"
     ]
    }
   ],
   "source": [
    "corpus = ['A','C','G','T']\n",
    "k = 7\n",
    "corres = make_corres(corpus,k)\n",
    "\n",
    "params = np.array([1e-5, 1e-4, 1e-3, 1e-2,3e-2, 7e-2, 1e-1, 1])\n",
    "\n",
    "errors = np.zeros(len(params))\n",
    "losses = np.zeros(len(params))\n",
    "\n",
    "for i in range(len(params)):\n",
    "  param =params[i]\n",
    "\n",
    "  Ridge = KernelRidgeRegScratch_spectrum(param = param, corres = corres, k = k)\n",
    "  Ridge.fit(Xtr2_train,ytr2_train, Xtr2_test)\n",
    "\n",
    "  ypred = np.sign(Ridge.predict())\n",
    "\n",
    "  error= np.sum((ypred - ytr2_test) != 0)\n",
    "  loss = error/len(ytr2_test)\n",
    "\n",
    "  errors[i] = error\n",
    "  losses [i] = loss\n",
    "  print(\"error: \", error)\n",
    "  print(\"loss: \", loss)\n",
    "\n",
    "print('optimal param: ', params[np.argmin(errors)])\n",
    "print('optimal error: ', errors[np.argmin(errors)])"
   ]
  },
  {
   "cell_type": "code",
   "execution_count": null,
   "metadata": {
    "colab": {
     "base_uri": "https://localhost:8080/"
    },
    "id": "TMy31hE4JZ2O",
    "outputId": "be35c818-35b3-4897-9204-0746630cacec"
   },
   "outputs": [
    {
     "name": "stdout",
     "output_type": "stream",
     "text": [
      "error:  126\n",
      "loss:  0.252\n",
      "error:  136\n",
      "loss:  0.272\n",
      "error:  141\n",
      "loss:  0.282\n",
      "optimal param:  1\n",
      "optimal error:  126.0\n"
     ]
    }
   ],
   "source": [
    "corpus = ['A','C','G','T']\n",
    "k = 8\n",
    "corres = make_corres(corpus,k)\n",
    "\n",
    "params = np.array([1e-5, 1e-4, 1e-3, 1e-2,3e-2, 7e-2, 1e-1, 1])\n",
    "\n",
    "errors = np.zeros(len(params))\n",
    "losses = np.zeros(len(params))\n",
    "\n",
    "for i in range(len(params)):\n",
    "  param =params[i]\n",
    "\n",
    "  Ridge = KernelRidgeRegScratch_spectrum(param = param, corres = corres, k = k)\n",
    "  Ridge.fit(Xtr2_train,ytr2_train, Xtr2_test)\n",
    "\n",
    "  ypred = np.sign(Ridge.predict())\n",
    "\n",
    "  error= np.sum((ypred - ytr2_test) != 0)\n",
    "  loss = error/len(ytr2_test)\n",
    "\n",
    "  errors[i] = error\n",
    "  losses [i] = loss\n",
    "  print(\"error: \", error)\n",
    "  print(\"loss: \", loss)\n",
    "\n",
    "print('optimal param: ', params[np.argmin(errors)])\n",
    "print('optimal error: ', errors[np.argmin(errors)])"
   ]
  },
  {
   "cell_type": "code",
   "execution_count": null,
   "metadata": {
    "colab": {
     "base_uri": "https://localhost:8080/"
    },
    "id": "FrRqpH3pfbqA",
    "outputId": "cf055dd7-ce60-498a-9a2d-6c212ce9c43b"
   },
   "outputs": [
    {
     "name": "stdout",
     "output_type": "stream",
     "text": [
      "error:  132\n",
      "loss:  0.264\n",
      "error:  132\n",
      "loss:  0.264\n",
      "error:  132\n",
      "loss:  0.264\n",
      "error:  130\n",
      "loss:  0.26\n",
      "error:  131\n",
      "loss:  0.262\n",
      "error:  130\n",
      "loss:  0.26\n",
      "error:  132\n",
      "loss:  0.264\n",
      "error:  133\n",
      "loss:  0.266\n",
      "optimal param:  0.01\n",
      "optimal error:  130.0\n"
     ]
    }
   ],
   "source": [
    "corpus = ['A','C','G','T']\n",
    "k = 9\n",
    "corres = make_corres(corpus,k)\n",
    "\n",
    "params = np.array([1e-5, 1e-4, 1e-3, 1e-2,3e-2, 7e-2, 1e-1, 1])\n",
    "\n",
    "errors = np.zeros(len(params))\n",
    "losses = np.zeros(len(params))\n",
    "\n",
    "for i in range(len(params)):\n",
    "  param =params[i]\n",
    "\n",
    "  Ridge = KernelRidgeRegScratch_spectrum(param = param, corres = corres, k = k)\n",
    "  Ridge.fit(Xtr2_train,ytr2_train, Xtr2_test)\n",
    "\n",
    "  ypred = np.sign(Ridge.predict())\n",
    "\n",
    "  error= np.sum((ypred - ytr2_test) != 0)\n",
    "  loss = error/len(ytr2_test)\n",
    "\n",
    "  errors[i] = error\n",
    "  losses [i] = loss\n",
    "  print(\"error: \", error)\n",
    "  print(\"loss: \", loss)\n",
    "\n",
    "print('optimal param: ', params[np.argmin(errors)])\n",
    "print('optimal error: ', errors[np.argmin(errors)])"
   ]
  },
  {
   "cell_type": "markdown",
   "metadata": {
    "id": "4iYyRx91e-tL"
   },
   "source": [
    "###### Submission"
   ]
  },
  {
   "cell_type": "markdown",
   "metadata": {
    "id": "dnpctj7YleCX"
   },
   "source": [
    "As we can see, the best results are given with k = 8 and param = 1. Hence we'll use them to apply the method on the test dataset for the challenge submission"
   ]
  },
  {
   "cell_type": "code",
   "execution_count": null,
   "metadata": {
    "id": "HUFFD0tae7PC"
   },
   "outputs": [],
   "source": [
    "corpus = ['A','C','G','T']\n",
    "k = 8\n",
    "corres = make_corres(corpus,k)\n",
    "param = 1\n",
    "\n",
    "Ridge = KernelRidgeRegScratch_spectrum(param = param, corres = corres, k = k)\n",
    "\n",
    "Ridge.fit(Xtr2,ytr2, Xte2)\n",
    "\n",
    "ypred = np.sign(Ridge.predict())"
   ]
  },
  {
   "cell_type": "code",
   "execution_count": null,
   "metadata": {
    "colab": {
     "base_uri": "https://localhost:8080/",
     "height": 419
    },
    "id": "9QxcMPbwe95U",
    "outputId": "a3b15439-baee-4ffe-bca3-d70d4d7c202d"
   },
   "outputs": [
    {
     "data": {
      "text/html": [
       "<div>\n",
       "<style scoped>\n",
       "    .dataframe tbody tr th:only-of-type {\n",
       "        vertical-align: middle;\n",
       "    }\n",
       "\n",
       "    .dataframe tbody tr th {\n",
       "        vertical-align: top;\n",
       "    }\n",
       "\n",
       "    .dataframe thead th {\n",
       "        text-align: right;\n",
       "    }\n",
       "</style>\n",
       "<table border=\"1\" class=\"dataframe\">\n",
       "  <thead>\n",
       "    <tr style=\"text-align: right;\">\n",
       "      <th></th>\n",
       "      <th>id</th>\n",
       "      <th>Bound</th>\n",
       "    </tr>\n",
       "  </thead>\n",
       "  <tbody>\n",
       "    <tr>\n",
       "      <th>0</th>\n",
       "      <td>2000</td>\n",
       "      <td>-1</td>\n",
       "    </tr>\n",
       "    <tr>\n",
       "      <th>1</th>\n",
       "      <td>2001</td>\n",
       "      <td>-1</td>\n",
       "    </tr>\n",
       "    <tr>\n",
       "      <th>2</th>\n",
       "      <td>2002</td>\n",
       "      <td>1</td>\n",
       "    </tr>\n",
       "    <tr>\n",
       "      <th>3</th>\n",
       "      <td>2003</td>\n",
       "      <td>1</td>\n",
       "    </tr>\n",
       "    <tr>\n",
       "      <th>4</th>\n",
       "      <td>2004</td>\n",
       "      <td>-1</td>\n",
       "    </tr>\n",
       "    <tr>\n",
       "      <th>...</th>\n",
       "      <td>...</td>\n",
       "      <td>...</td>\n",
       "    </tr>\n",
       "    <tr>\n",
       "      <th>995</th>\n",
       "      <td>2995</td>\n",
       "      <td>1</td>\n",
       "    </tr>\n",
       "    <tr>\n",
       "      <th>996</th>\n",
       "      <td>2996</td>\n",
       "      <td>-1</td>\n",
       "    </tr>\n",
       "    <tr>\n",
       "      <th>997</th>\n",
       "      <td>2997</td>\n",
       "      <td>-1</td>\n",
       "    </tr>\n",
       "    <tr>\n",
       "      <th>998</th>\n",
       "      <td>2998</td>\n",
       "      <td>-1</td>\n",
       "    </tr>\n",
       "    <tr>\n",
       "      <th>999</th>\n",
       "      <td>2999</td>\n",
       "      <td>1</td>\n",
       "    </tr>\n",
       "  </tbody>\n",
       "</table>\n",
       "<p>1000 rows × 2 columns</p>\n",
       "</div>"
      ],
      "text/plain": [
       "       id  Bound\n",
       "0    2000     -1\n",
       "1    2001     -1\n",
       "2    2002      1\n",
       "3    2003      1\n",
       "4    2004     -1\n",
       "..    ...    ...\n",
       "995  2995      1\n",
       "996  2996     -1\n",
       "997  2997     -1\n",
       "998  2998     -1\n",
       "999  2999      1\n",
       "\n",
       "[1000 rows x 2 columns]"
      ]
     },
     "execution_count": 34,
     "metadata": {
      "tags": []
     },
     "output_type": "execute_result"
    }
   ],
   "source": [
    "rep = ypred.astype(\"int8\")\n",
    "df_rep3 = pd.DataFrame(data=np.array([range(2000,3000),rep]).T, columns=[\"id\", \"Bound\"])\n",
    "df_rep3"
   ]
  },
  {
   "cell_type": "markdown",
   "metadata": {
    "id": "xvHgw2YCgyUZ"
   },
   "source": [
    "##### Final Submission"
   ]
  },
  {
   "cell_type": "code",
   "execution_count": null,
   "metadata": {
    "colab": {
     "base_uri": "https://localhost:8080/",
     "height": 419
    },
    "id": "2lCEWqQMg0mS",
    "outputId": "771cda08-e247-4891-b2de-6db2557bf512"
   },
   "outputs": [
    {
     "data": {
      "text/html": [
       "<div>\n",
       "<style scoped>\n",
       "    .dataframe tbody tr th:only-of-type {\n",
       "        vertical-align: middle;\n",
       "    }\n",
       "\n",
       "    .dataframe tbody tr th {\n",
       "        vertical-align: top;\n",
       "    }\n",
       "\n",
       "    .dataframe thead th {\n",
       "        text-align: right;\n",
       "    }\n",
       "</style>\n",
       "<table border=\"1\" class=\"dataframe\">\n",
       "  <thead>\n",
       "    <tr style=\"text-align: right;\">\n",
       "      <th></th>\n",
       "      <th>id</th>\n",
       "      <th>Bound</th>\n",
       "    </tr>\n",
       "  </thead>\n",
       "  <tbody>\n",
       "    <tr>\n",
       "      <th>0</th>\n",
       "      <td>0</td>\n",
       "      <td>1</td>\n",
       "    </tr>\n",
       "    <tr>\n",
       "      <th>1</th>\n",
       "      <td>1</td>\n",
       "      <td>1</td>\n",
       "    </tr>\n",
       "    <tr>\n",
       "      <th>2</th>\n",
       "      <td>2</td>\n",
       "      <td>1</td>\n",
       "    </tr>\n",
       "    <tr>\n",
       "      <th>3</th>\n",
       "      <td>3</td>\n",
       "      <td>1</td>\n",
       "    </tr>\n",
       "    <tr>\n",
       "      <th>4</th>\n",
       "      <td>4</td>\n",
       "      <td>-1</td>\n",
       "    </tr>\n",
       "    <tr>\n",
       "      <th>...</th>\n",
       "      <td>...</td>\n",
       "      <td>...</td>\n",
       "    </tr>\n",
       "    <tr>\n",
       "      <th>995</th>\n",
       "      <td>2995</td>\n",
       "      <td>1</td>\n",
       "    </tr>\n",
       "    <tr>\n",
       "      <th>996</th>\n",
       "      <td>2996</td>\n",
       "      <td>-1</td>\n",
       "    </tr>\n",
       "    <tr>\n",
       "      <th>997</th>\n",
       "      <td>2997</td>\n",
       "      <td>-1</td>\n",
       "    </tr>\n",
       "    <tr>\n",
       "      <th>998</th>\n",
       "      <td>2998</td>\n",
       "      <td>-1</td>\n",
       "    </tr>\n",
       "    <tr>\n",
       "      <th>999</th>\n",
       "      <td>2999</td>\n",
       "      <td>1</td>\n",
       "    </tr>\n",
       "  </tbody>\n",
       "</table>\n",
       "<p>3000 rows × 2 columns</p>\n",
       "</div>"
      ],
      "text/plain": [
       "       id  Bound\n",
       "0       0      1\n",
       "1       1      1\n",
       "2       2      1\n",
       "3       3      1\n",
       "4       4     -1\n",
       "..    ...    ...\n",
       "995  2995      1\n",
       "996  2996     -1\n",
       "997  2997     -1\n",
       "998  2998     -1\n",
       "999  2999      1\n",
       "\n",
       "[3000 rows x 2 columns]"
      ]
     },
     "execution_count": 35,
     "metadata": {
      "tags": []
     },
     "output_type": "execute_result"
    }
   ],
   "source": [
    "df_sub = pd.concat([df_rep1,df_rep2,df_rep3])\n",
    "df_sub"
   ]
  },
  {
   "cell_type": "code",
   "execution_count": null,
   "metadata": {
    "id": "5yBqlpt7h4fb"
   },
   "outputs": [],
   "source": [
    "df_sub = df_sub.replace(-1,0)"
   ]
  },
  {
   "cell_type": "code",
   "execution_count": null,
   "metadata": {
    "colab": {
     "base_uri": "https://localhost:8080/",
     "height": 419
    },
    "id": "p6jwlokfh_rX",
    "outputId": "b335095b-66d7-4c63-81cb-bfc7eb4ef79c"
   },
   "outputs": [
    {
     "data": {
      "text/html": [
       "<div>\n",
       "<style scoped>\n",
       "    .dataframe tbody tr th:only-of-type {\n",
       "        vertical-align: middle;\n",
       "    }\n",
       "\n",
       "    .dataframe tbody tr th {\n",
       "        vertical-align: top;\n",
       "    }\n",
       "\n",
       "    .dataframe thead th {\n",
       "        text-align: right;\n",
       "    }\n",
       "</style>\n",
       "<table border=\"1\" class=\"dataframe\">\n",
       "  <thead>\n",
       "    <tr style=\"text-align: right;\">\n",
       "      <th></th>\n",
       "      <th>id</th>\n",
       "      <th>Bound</th>\n",
       "    </tr>\n",
       "  </thead>\n",
       "  <tbody>\n",
       "    <tr>\n",
       "      <th>0</th>\n",
       "      <td>0</td>\n",
       "      <td>1</td>\n",
       "    </tr>\n",
       "    <tr>\n",
       "      <th>1</th>\n",
       "      <td>1</td>\n",
       "      <td>1</td>\n",
       "    </tr>\n",
       "    <tr>\n",
       "      <th>2</th>\n",
       "      <td>2</td>\n",
       "      <td>1</td>\n",
       "    </tr>\n",
       "    <tr>\n",
       "      <th>3</th>\n",
       "      <td>3</td>\n",
       "      <td>1</td>\n",
       "    </tr>\n",
       "    <tr>\n",
       "      <th>4</th>\n",
       "      <td>4</td>\n",
       "      <td>0</td>\n",
       "    </tr>\n",
       "    <tr>\n",
       "      <th>...</th>\n",
       "      <td>...</td>\n",
       "      <td>...</td>\n",
       "    </tr>\n",
       "    <tr>\n",
       "      <th>995</th>\n",
       "      <td>2995</td>\n",
       "      <td>1</td>\n",
       "    </tr>\n",
       "    <tr>\n",
       "      <th>996</th>\n",
       "      <td>2996</td>\n",
       "      <td>0</td>\n",
       "    </tr>\n",
       "    <tr>\n",
       "      <th>997</th>\n",
       "      <td>2997</td>\n",
       "      <td>0</td>\n",
       "    </tr>\n",
       "    <tr>\n",
       "      <th>998</th>\n",
       "      <td>2998</td>\n",
       "      <td>0</td>\n",
       "    </tr>\n",
       "    <tr>\n",
       "      <th>999</th>\n",
       "      <td>2999</td>\n",
       "      <td>1</td>\n",
       "    </tr>\n",
       "  </tbody>\n",
       "</table>\n",
       "<p>3000 rows × 2 columns</p>\n",
       "</div>"
      ],
      "text/plain": [
       "       id  Bound\n",
       "0       0      1\n",
       "1       1      1\n",
       "2       2      1\n",
       "3       3      1\n",
       "4       4      0\n",
       "..    ...    ...\n",
       "995  2995      1\n",
       "996  2996      0\n",
       "997  2997      0\n",
       "998  2998      0\n",
       "999  2999      1\n",
       "\n",
       "[3000 rows x 2 columns]"
      ]
     },
     "execution_count": 39,
     "metadata": {
      "tags": []
     },
     "output_type": "execute_result"
    }
   ],
   "source": [
    "df_sub"
   ]
  },
  {
   "cell_type": "code",
   "execution_count": null,
   "metadata": {
    "id": "FSyWQ0YXg7R_"
   },
   "outputs": [],
   "source": [
    "df_sub.to_csv('submission_kridgespectr_7.csv', index=False)"
   ]
  },
  {
   "cell_type": "markdown",
   "metadata": {
    "id": "U5VmRS28-zAD"
   },
   "source": [
    "#### Mismatch Kernel"
   ]
  },
  {
   "cell_type": "markdown",
   "metadata": {
    "id": "xgJ6nhx3mYP_"
   },
   "source": [
    "In this section, we use the mismatch kernel with kernel ridge regression.   \n",
    "We assess the functioning of this method using several parameters: **k =7 and m=2, k =7 and m=1, k =7 and m=3, k =6 and m=1, k =6 and m=2** "
   ]
  },
  {
   "cell_type": "code",
   "execution_count": null,
   "metadata": {
    "id": "W3IobcTa-1bx"
   },
   "outputs": [],
   "source": [
    "def make_corres(corpus,k):\n",
    "    '''\n",
    "    make_corres\n",
    "    \n",
    "    Args:\n",
    "        corpus: the letters that compose the sequences\n",
    "        k: length of the sequences\n",
    "        \n",
    "    Returns:\n",
    "        corres: dictionnary of correspondances between sequences of length k and indexes\n",
    "    '''\n",
    "    corres = dict()\n",
    "    count = 0\n",
    "    for u in product(corpus,repeat=k):\n",
    "        s = ''\n",
    "        for i in range(k):\n",
    "            s += u[i]\n",
    "        corres[s] = count\n",
    "        count += 1\n",
    "    return corres\n",
    "\n",
    "def mismatches(k,m,corres):\n",
    "    '''\n",
    "    mismatches\n",
    "    \n",
    "    Args:\n",
    "        k: length of the sequences\n",
    "        m: number of allowed mismatches\n",
    "        corres: dictionnary of correspondances between sequences of length k and indexes\n",
    "        \n",
    "    Returns:\n",
    "        mms: matrix of mismatches among all k-length sequences \n",
    "    '''\n",
    "    N = 4**k\n",
    "    #L = lil_matrix((N,N), dtype=\"int16\")\n",
    "    L = np.zeros((N,N))\n",
    "    seqs = list(corres.keys())\n",
    "    for i in range(N):\n",
    "        seq1 = seqs[i]\n",
    "        for j in range(N):\n",
    "            seq2 = seqs[j]\n",
    "            mm = 0\n",
    "            count = 0\n",
    "            while (mm <= m) and (count <= k-1):\n",
    "                if seq1[count] != seq2[count]:\n",
    "                    mm += 1\n",
    "                count += 1\n",
    "            if mm <= m:\n",
    "                L[i,j] = 1\n",
    "    return L\n",
    "            \n",
    "def mismatch_kernel(x1, x2, k, corres, mismatches):          \n",
    "    '''\n",
    "    mismatch_kernel\n",
    "    \n",
    "    Args:\n",
    "        x1, x2: data points\n",
    "        corres: dictionnary of correspondances between sequences of length k and indexes\n",
    "        k: length of the sequences\n",
    "        mismatches: matrix of mismatches among all k-length sequences\n",
    "        \n",
    "    Returns:\n",
    "        k(x1,x2): the kernel evaluated at points x1 and x2 (normalized dot product between feature vectors)\n",
    "    '''\n",
    "    \n",
    "    sample1 = x1[0]\n",
    "    sample2 = x2[0]\n",
    "    \n",
    "    N = 4**k\n",
    "    \n",
    "    #Initialization\n",
    "    \n",
    "    feature1 = np.zeros(N)\n",
    "    feature2 = np.zeros(N)\n",
    "    \n",
    "#     feature1 = csr_matrix((1,N), dtype=\"int32\")\n",
    "#     feature2 = csr_matrix((1,N), dtype=\"int32\")\n",
    "    \n",
    "    for i in range(len(sample1)-k+1):\n",
    "        segment1 = sample1[i:i+k]\n",
    "        segment2 = sample2[i:i+k]\n",
    "        \n",
    "        feature1 += mismatches[corres[segment1]]\n",
    "        feature2 += mismatches[corres[segment2]]\n",
    "        \n",
    "    #normalization\n",
    "    feature1 = feature1/np.sqrt(feature1.dot(feature1))\n",
    "    feature2 = feature2/np.sqrt(feature2.dot(feature2))\n",
    "\n",
    "    return feature1.dot(feature2)\n",
    "\n",
    "def gram_mismatch(X, X_test, corres, k, mismatches):\n",
    "    '''\n",
    "    gram_spectrum\n",
    "    \n",
    "    Args:\n",
    "        X, X_test: training and test data\n",
    "        corres: dictionnary of correspondances between sequences of length k and indexes\n",
    "        k: length of the sequences\n",
    "        mismatches: matrix of mismatches among all k-length sequences\n",
    "        \n",
    "    Returns:\n",
    "        K: Gram matrix of X and X_test concatenated\n",
    "    '''\n",
    "    \n",
    "    X = np.concatenate((X,X_test),axis=0)\n",
    "    \n",
    "    N = X.shape[0]\n",
    "    m = len(X[0][0])\n",
    "    n = 4**k\n",
    "    \n",
    "    \n",
    "    #features = csr_matrix((N,n), dtype=\"int8\")\n",
    "    features = np.zeros((N,n))\n",
    "    for sample in range(N):\n",
    "        for i in range(m-k+1):\n",
    "            segment = X[sample][0][i:i+k]\n",
    "            features[sample] += mismatches[corres[segment]]\n",
    "        features[sample] = features[sample]/np.sqrt(features[sample].dot(features[sample]))\n",
    "        \n",
    "    #features = csr_matrix(features, shape=(N,n), dtype=\"int8\")\n",
    "    \n",
    "    return features.dot(features.T)"
   ]
  },
  {
   "cell_type": "code",
   "execution_count": null,
   "metadata": {
    "id": "_sDLosud_RAo"
   },
   "outputs": [],
   "source": [
    "class KernelRidgeRegScratch_mismatch():\n",
    "  '''\n",
    "  This class is an implementation of the kernel ridge regression method\n",
    "\n",
    "  Inputs:\n",
    "    - param: Regularization value (lambda)\n",
    "    - k: the width of the sequences\n",
    "    - corres: the matrix of the different sequences\n",
    "    - mms: the matrix of mismatches\n",
    "\n",
    "  Outputs:\n",
    "    - fit: the learned parameters\n",
    "    - predict: the prediction using the learned parameters\n",
    "\n",
    "  '''\n",
    "\n",
    "  def __init__(self, param=1.0, solver='closed_form', corres=None,  k = 6, mms =None):\n",
    "      self.param = param\n",
    "      self.solver = solver\n",
    "      self.corres = corres\n",
    "      self.k = k\n",
    "      self.mms = mms\n",
    "     \n",
    "\n",
    "  def fit(self, X, y, X_test):\n",
    "      \n",
    "      self.X = X\n",
    "      self.y = y\n",
    "      self.X_test = X_test\n",
    "\n",
    "      \n",
    "      # number of rows  in matrix of X \n",
    "      n = self.X.shape[0]\n",
    "\n",
    "      # Identity matrix of dimension compatible with our X_intercept Matrix\n",
    "      I = np.identity(n)\n",
    "\n",
    "\n",
    "      # We create a bias term corresponding to param for each column of X \n",
    "      I_biased = self.param * I\n",
    "\n",
    "      n = self.X.shape[0]\n",
    "\n",
    "      K = gram_mismatch(self.X, self.X_test, self.corres, self.k, self.mms)\n",
    "      \n",
    "      threshold = n\n",
    "\n",
    "      self.K = K[:threshold,:threshold]\n",
    "      self.K_test = K[threshold:,:threshold]\n",
    "\n",
    "      betas = np.linalg.inv(self.K + I_biased).dot(y)\n",
    "      self.betas = betas\n",
    "\n",
    "\n",
    "  def predict(self):\n",
    "      betas = self.betas\n",
    "      K_test = self.K_test.transpose()\n",
    "\n",
    "      K_predictor = np.dot(betas,K_test)\n",
    "\n",
    "      self.predictions = K_predictor\n",
    "      return self.predictions"
   ]
  },
  {
   "cell_type": "markdown",
   "metadata": {
    "id": "bZCaM7Ae08zF"
   },
   "source": [
    "##### X0"
   ]
  },
  {
   "cell_type": "code",
   "execution_count": null,
   "metadata": {
    "colab": {
     "base_uri": "https://localhost:8080/"
    },
    "id": "1_8evAQB1Fpw",
    "outputId": "bf79e98a-1cb7-4005-82a8-d65d0065af99"
   },
   "outputs": [
    {
     "name": "stdout",
     "output_type": "stream",
     "text": [
      "error:  188\n",
      "loss:  0.376\n",
      "error:  188\n",
      "loss:  0.376\n",
      "error:  189\n",
      "loss:  0.378\n",
      "error:  188\n",
      "loss:  0.376\n",
      "error:  187\n",
      "loss:  0.374\n",
      "error:  176\n",
      "loss:  0.352\n",
      "error:  170\n",
      "loss:  0.34\n",
      "error:  167\n",
      "loss:  0.334\n",
      "optimal param:  1.0\n",
      "optimal error:  167.0\n"
     ]
    }
   ],
   "source": [
    "corpus = ['A','C','G','T']\n",
    "k = 7\n",
    "m = 2\n",
    "\n",
    "corres = make_corres(corpus,k)\n",
    "mms72 = mismatches(k,m,corres)\n",
    "\n",
    "params = np.array([1e-5, 1e-4, 1e-3, 1e-2,3e-2, 7e-2, 1e-1, 1])\n",
    "\n",
    "errors = np.zeros(len(params))\n",
    "losses = np.zeros(len(params))\n",
    "\n",
    "for i in range(len(params)):\n",
    "  param =params[i]\n",
    "\n",
    "  Ridge = KernelRidgeRegScratch_mismatch(param = param, corres = corres, k = k, mms = mms72)\n",
    "  Ridge.fit(Xtr0_train,ytr0_train, Xtr0_test)\n",
    "\n",
    "  ypred = np.sign(Ridge.predict())\n",
    "\n",
    "  error= np.sum((ypred - ytr0_test) != 0)\n",
    "  loss = error/len(ytr0_test)\n",
    "\n",
    "  errors[i] = error\n",
    "  losses [i] = loss\n",
    "  print(\"error: \", error)\n",
    "  print(\"loss: \", loss)\n",
    "\n",
    "print('optimal param: ', params[np.argmin(errors)])\n",
    "print('optimal error: ', errors[np.argmin(errors)])"
   ]
  },
  {
   "cell_type": "code",
   "execution_count": null,
   "metadata": {
    "colab": {
     "base_uri": "https://localhost:8080/"
    },
    "id": "vcWf4CJgRoq0",
    "outputId": "f120f7d8-4ca5-4416-d960-0a536ef6241e"
   },
   "outputs": [
    {
     "name": "stdout",
     "output_type": "stream",
     "text": [
      "error:  196\n",
      "loss:  0.392\n",
      "error:  196\n",
      "loss:  0.392\n",
      "error:  196\n",
      "loss:  0.392\n",
      "error:  196\n",
      "loss:  0.392\n",
      "error:  194\n",
      "loss:  0.388\n",
      "error:  196\n",
      "loss:  0.392\n",
      "error:  191\n",
      "loss:  0.382\n",
      "error:  161\n",
      "loss:  0.322\n",
      "optimal param:  1.0\n",
      "optimal error:  161.0\n"
     ]
    }
   ],
   "source": [
    "corpus = ['A','C','G','T']\n",
    "k = 7\n",
    "m = 1\n",
    "\n",
    "corres = make_corres(corpus,k)\n",
    "mms71 = mismatches(k,m,corres)\n",
    "\n",
    "params = np.array([1e-5, 1e-4, 1e-3, 1e-2,3e-2, 7e-2, 1e-1, 1])\n",
    "\n",
    "errors = np.zeros(len(params))\n",
    "losses = np.zeros(len(params))\n",
    "\n",
    "for i in range(len(params)):\n",
    "  param =params[i]\n",
    "\n",
    "  Ridge = KernelRidgeRegScratch_mismatch(param = param, corres = corres, k = k, mms = mms71)\n",
    "  Ridge.fit(Xtr0_train,ytr0_train, Xtr0_test)\n",
    "\n",
    "  ypred = np.sign(Ridge.predict())\n",
    "\n",
    "  error= np.sum((ypred - ytr0_test) != 0)\n",
    "  loss = error/len(ytr0_test)\n",
    "\n",
    "  errors[i] = error\n",
    "  losses [i] = loss\n",
    "  print(\"error: \", error)\n",
    "  print(\"loss: \", loss)\n",
    "\n",
    "print('optimal param: ', params[np.argmin(errors)])\n",
    "print('optimal error: ', errors[np.argmin(errors)])"
   ]
  },
  {
   "cell_type": "code",
   "execution_count": null,
   "metadata": {
    "colab": {
     "base_uri": "https://localhost:8080/"
    },
    "id": "0fFnb9wb7EYn",
    "outputId": "9bee10e9-7343-4e95-e86f-33740743e783"
   },
   "outputs": [
    {
     "name": "stdout",
     "output_type": "stream",
     "text": [
      "error:  198\n",
      "loss:  0.396\n",
      "error:  198\n",
      "loss:  0.396\n",
      "error:  197\n",
      "loss:  0.394\n",
      "error:  190\n",
      "loss:  0.38\n",
      "error:  183\n",
      "loss:  0.366\n",
      "error:  180\n",
      "loss:  0.36\n",
      "error:  182\n",
      "loss:  0.364\n",
      "error:  196\n",
      "loss:  0.392\n",
      "optimal param:  0.07\n",
      "optimal error:  180.0\n"
     ]
    }
   ],
   "source": [
    "corpus = ['A','C','G','T']\n",
    "k = 7\n",
    "m = 3\n",
    "\n",
    "corres = make_corres(corpus,k)\n",
    "mms73 = mismatches(k,m,corres)\n",
    "\n",
    "params = np.array([1e-5, 1e-4, 1e-3, 1e-2,3e-2, 7e-2, 1e-1, 1])\n",
    "\n",
    "errors = np.zeros(len(params))\n",
    "losses = np.zeros(len(params))\n",
    "\n",
    "for i in range(len(params)):\n",
    "  param =params[i]\n",
    "\n",
    "  Ridge = KernelRidgeRegScratch_mismatch(param = param, corres = corres, k = k, mms = mms73)\n",
    "  Ridge.fit(Xtr0_train,ytr0_train, Xtr0_test)\n",
    "\n",
    "  ypred = np.sign(Ridge.predict())\n",
    "\n",
    "  error= np.sum((ypred - ytr0_test) != 0)\n",
    "  loss = error/len(ytr0_test)\n",
    "\n",
    "  errors[i] = error\n",
    "  losses [i] = loss\n",
    "  print(\"error: \", error)\n",
    "  print(\"loss: \", loss)\n",
    "\n",
    "print('optimal param: ', params[np.argmin(errors)])\n",
    "print('optimal error: ', errors[np.argmin(errors)])"
   ]
  },
  {
   "cell_type": "code",
   "execution_count": null,
   "metadata": {
    "colab": {
     "base_uri": "https://localhost:8080/"
    },
    "id": "K0ilYKF76Z8q",
    "outputId": "3962aece-ed42-4126-e386-448540faeaf9"
   },
   "outputs": [
    {
     "name": "stdout",
     "output_type": "stream",
     "text": [
      "error:  211\n",
      "loss:  0.422\n",
      "error:  212\n",
      "loss:  0.424\n",
      "error:  207\n",
      "loss:  0.414\n",
      "error:  199\n",
      "loss:  0.398\n",
      "error:  189\n",
      "loss:  0.378\n",
      "error:  187\n",
      "loss:  0.374\n",
      "error:  191\n",
      "loss:  0.382\n",
      "error:  188\n",
      "loss:  0.376\n",
      "optimal param:  0.07\n",
      "optimal error:  187.0\n"
     ]
    }
   ],
   "source": [
    "corpus = ['A','C','G','T']\n",
    "k = 6\n",
    "m = 2\n",
    "\n",
    "corres = make_corres(corpus,k)\n",
    "mms = mismatches(k,m,corres)\n",
    "\n",
    "params = np.array([1e-5, 1e-4, 1e-3, 1e-2,3e-2, 7e-2, 1e-1, 1])\n",
    "\n",
    "errors = np.zeros(len(params))\n",
    "losses = np.zeros(len(params))\n",
    "\n",
    "for i in range(len(params)):\n",
    "  param =params[i]\n",
    "\n",
    "  Ridge = KernelRidgeRegScratch_mismatch(param = param, corres = corres, k = k, mms = mms)\n",
    "  Ridge.fit(Xtr0_train,ytr0_train, Xtr0_test)\n",
    "\n",
    "  ypred = np.sign(Ridge.predict())\n",
    "\n",
    "  error= np.sum((ypred - ytr0_test) != 0)\n",
    "  loss = error/len(ytr0_test)\n",
    "\n",
    "  errors[i] = error\n",
    "  losses [i] = loss\n",
    "  print(\"error: \", error)\n",
    "  print(\"loss: \", loss)\n",
    "\n",
    "print('optimal param: ', params[np.argmin(errors)])\n",
    "print('optimal error: ', errors[np.argmin(errors)])"
   ]
  },
  {
   "cell_type": "code",
   "execution_count": null,
   "metadata": {
    "colab": {
     "base_uri": "https://localhost:8080/"
    },
    "id": "aAQLtztd8EhM",
    "outputId": "468c0069-4769-428d-9e87-e9f09b092aa1"
   },
   "outputs": [
    {
     "name": "stdout",
     "output_type": "stream",
     "text": [
      "error:  221\n",
      "loss:  0.442\n",
      "error:  221\n",
      "loss:  0.442\n",
      "error:  223\n",
      "loss:  0.446\n",
      "error:  221\n",
      "loss:  0.442\n",
      "error:  220\n",
      "loss:  0.44\n",
      "error:  212\n",
      "loss:  0.424\n",
      "error:  207\n",
      "loss:  0.414\n",
      "error:  184\n",
      "loss:  0.368\n",
      "optimal param:  1.0\n",
      "optimal error:  184.0\n"
     ]
    }
   ],
   "source": [
    "corpus = ['A','C','G','T']\n",
    "k = 6\n",
    "m = 1\n",
    "\n",
    "corres = make_corres(corpus,k)\n",
    "mms = mismatches(k,m,corres)\n",
    "\n",
    "params = np.array([1e-5, 1e-4, 1e-3, 1e-2,3e-2, 7e-2, 1e-1, 1])\n",
    "\n",
    "errors = np.zeros(len(params))\n",
    "losses = np.zeros(len(params))\n",
    "\n",
    "for i in range(len(params)):\n",
    "  param =params[i]\n",
    "\n",
    "  Ridge = KernelRidgeRegScratch_mismatch(param = param, corres = corres, k = k, mms = mms)\n",
    "  Ridge.fit(Xtr0_train,ytr0_train, Xtr0_test)\n",
    "\n",
    "  ypred = np.sign(Ridge.predict())\n",
    "\n",
    "  error= np.sum((ypred - ytr0_test) != 0)\n",
    "  loss = error/len(ytr0_test)\n",
    "\n",
    "  errors[i] = error\n",
    "  losses [i] = loss\n",
    "  print(\"error: \", error)\n",
    "  print(\"loss: \", loss)\n",
    "\n",
    "print('optimal param: ', params[np.argmin(errors)])\n",
    "print('optimal error: ', errors[np.argmin(errors)])"
   ]
  },
  {
   "cell_type": "markdown",
   "metadata": {
    "id": "037kuAQ0jDmC"
   },
   "source": [
    "###### Submission\n"
   ]
  },
  {
   "cell_type": "markdown",
   "metadata": {
    "id": "Q_OxZEnlnqmA"
   },
   "source": [
    "As we can see, the best results are given with k =7 and param =1 and m=1. Hence we'll use them to apply the method on the test dataset for the challenge submission"
   ]
  },
  {
   "cell_type": "code",
   "execution_count": null,
   "metadata": {
    "id": "aaxADqTMjFzt"
   },
   "outputs": [],
   "source": [
    "corpus = ['A','C','G','T']\n",
    "k = 7\n",
    "m = 1\n",
    "\n",
    "corres = make_corres(corpus,k)\n",
    "mms = mismatches(k,m,corres)\n",
    "param = 1\n",
    "\n",
    "Ridge = KernelRidgeRegScratch_mismatch(param = param, corres = corres, k = k, mms = mms)\n",
    "\n",
    "Ridge.fit(Xtr0,ytr0, Xte0)\n",
    "\n",
    "ypred = np.sign(Ridge.predict())\n"
   ]
  },
  {
   "cell_type": "code",
   "execution_count": null,
   "metadata": {
    "colab": {
     "base_uri": "https://localhost:8080/",
     "height": 419
    },
    "id": "x87JON7pjOMD",
    "outputId": "33ba2218-09dc-4d6c-9114-64225f0e99ec"
   },
   "outputs": [
    {
     "data": {
      "text/html": [
       "<div>\n",
       "<style scoped>\n",
       "    .dataframe tbody tr th:only-of-type {\n",
       "        vertical-align: middle;\n",
       "    }\n",
       "\n",
       "    .dataframe tbody tr th {\n",
       "        vertical-align: top;\n",
       "    }\n",
       "\n",
       "    .dataframe thead th {\n",
       "        text-align: right;\n",
       "    }\n",
       "</style>\n",
       "<table border=\"1\" class=\"dataframe\">\n",
       "  <thead>\n",
       "    <tr style=\"text-align: right;\">\n",
       "      <th></th>\n",
       "      <th>id</th>\n",
       "      <th>Bound</th>\n",
       "    </tr>\n",
       "  </thead>\n",
       "  <tbody>\n",
       "    <tr>\n",
       "      <th>0</th>\n",
       "      <td>0</td>\n",
       "      <td>1</td>\n",
       "    </tr>\n",
       "    <tr>\n",
       "      <th>1</th>\n",
       "      <td>1</td>\n",
       "      <td>1</td>\n",
       "    </tr>\n",
       "    <tr>\n",
       "      <th>2</th>\n",
       "      <td>2</td>\n",
       "      <td>1</td>\n",
       "    </tr>\n",
       "    <tr>\n",
       "      <th>3</th>\n",
       "      <td>3</td>\n",
       "      <td>1</td>\n",
       "    </tr>\n",
       "    <tr>\n",
       "      <th>4</th>\n",
       "      <td>4</td>\n",
       "      <td>-1</td>\n",
       "    </tr>\n",
       "    <tr>\n",
       "      <th>...</th>\n",
       "      <td>...</td>\n",
       "      <td>...</td>\n",
       "    </tr>\n",
       "    <tr>\n",
       "      <th>995</th>\n",
       "      <td>995</td>\n",
       "      <td>-1</td>\n",
       "    </tr>\n",
       "    <tr>\n",
       "      <th>996</th>\n",
       "      <td>996</td>\n",
       "      <td>1</td>\n",
       "    </tr>\n",
       "    <tr>\n",
       "      <th>997</th>\n",
       "      <td>997</td>\n",
       "      <td>1</td>\n",
       "    </tr>\n",
       "    <tr>\n",
       "      <th>998</th>\n",
       "      <td>998</td>\n",
       "      <td>1</td>\n",
       "    </tr>\n",
       "    <tr>\n",
       "      <th>999</th>\n",
       "      <td>999</td>\n",
       "      <td>-1</td>\n",
       "    </tr>\n",
       "  </tbody>\n",
       "</table>\n",
       "<p>1000 rows × 2 columns</p>\n",
       "</div>"
      ],
      "text/plain": [
       "      id  Bound\n",
       "0      0      1\n",
       "1      1      1\n",
       "2      2      1\n",
       "3      3      1\n",
       "4      4     -1\n",
       "..   ...    ...\n",
       "995  995     -1\n",
       "996  996      1\n",
       "997  997      1\n",
       "998  998      1\n",
       "999  999     -1\n",
       "\n",
       "[1000 rows x 2 columns]"
      ]
     },
     "execution_count": 17,
     "metadata": {
      "tags": []
     },
     "output_type": "execute_result"
    }
   ],
   "source": [
    "rep = ypred.astype(\"int8\")\n",
    "df_rep1 = pd.DataFrame(data=np.array([range(1000),rep]).T, columns=[\"id\", \"Bound\"])\n",
    "df_rep1"
   ]
  },
  {
   "cell_type": "markdown",
   "metadata": {
    "id": "B-JWGLLK9Rl9"
   },
   "source": [
    "##### X1"
   ]
  },
  {
   "cell_type": "code",
   "execution_count": null,
   "metadata": {
    "colab": {
     "base_uri": "https://localhost:8080/"
    },
    "id": "Ph--p7728YKP",
    "outputId": "df5143fd-1ded-476b-826f-b42e8850ca4a"
   },
   "outputs": [
    {
     "name": "stdout",
     "output_type": "stream",
     "text": [
      "error:  191\n",
      "loss:  0.382\n",
      "error:  191\n",
      "loss:  0.382\n",
      "error:  191\n",
      "loss:  0.382\n",
      "error:  186\n",
      "loss:  0.372\n",
      "error:  177\n",
      "loss:  0.354\n",
      "error:  170\n",
      "loss:  0.34\n",
      "error:  168\n",
      "loss:  0.336\n",
      "error:  175\n",
      "loss:  0.35\n",
      "optimal param:  0.1\n",
      "optimal error:  168.0\n"
     ]
    }
   ],
   "source": [
    "corpus = ['A','C','G','T']\n",
    "k = 7\n",
    "m = 2\n",
    "\n",
    "corres = make_corres(corpus,k)\n",
    "mms = mismatches(k,m,corres)\n",
    "\n",
    "params = np.array([1e-5, 1e-4, 1e-3, 1e-2,3e-2, 7e-2, 1e-1, 1])\n",
    "\n",
    "errors = np.zeros(len(params))\n",
    "losses = np.zeros(len(params))\n",
    "\n",
    "for i in range(len(params)):\n",
    "  param =params[i]\n",
    "\n",
    "  Ridge = KernelRidgeRegScratch_mismatch(param = param, corres = corres, k = k, mms = mms)\n",
    "  Ridge.fit(Xtr1_train,ytr1_train, Xtr1_test)\n",
    "\n",
    "  ypred = np.sign(Ridge.predict())\n",
    "\n",
    "  error= np.sum((ypred - ytr1_test) != 0)\n",
    "  loss = error/len(ytr1_test)\n",
    "\n",
    "  errors[i] = error\n",
    "  losses [i] = loss\n",
    "  print(\"error: \", error)\n",
    "  print(\"loss: \", loss)\n",
    "\n",
    "print('optimal param: ', params[np.argmin(errors)])\n",
    "print('optimal error: ', errors[np.argmin(errors)])"
   ]
  },
  {
   "cell_type": "code",
   "execution_count": null,
   "metadata": {
    "colab": {
     "base_uri": "https://localhost:8080/"
    },
    "id": "bTwAlkGL9emF",
    "outputId": "63bce33a-7d16-4944-9fed-323a028ff564"
   },
   "outputs": [
    {
     "name": "stdout",
     "output_type": "stream",
     "text": [
      "error:  187\n",
      "loss:  0.374\n",
      "error:  187\n",
      "loss:  0.374\n",
      "error:  187\n",
      "loss:  0.374\n",
      "error:  187\n",
      "loss:  0.374\n",
      "error:  188\n",
      "loss:  0.376\n",
      "error:  184\n",
      "loss:  0.368\n",
      "error:  183\n",
      "loss:  0.366\n",
      "error:  176\n",
      "loss:  0.352\n",
      "error:  176\n",
      "loss:  0.352\n",
      "error:  156\n",
      "loss:  0.312\n",
      "error:  169\n",
      "loss:  0.338\n",
      "error:  203\n",
      "loss:  0.406\n",
      "optimal param:  1.0\n",
      "optimal error:  156.0\n"
     ]
    }
   ],
   "source": [
    "corpus = ['A','C','G','T']\n",
    "k = 7\n",
    "m = 1\n",
    "\n",
    "corres = make_corres(corpus,k)\n",
    "mms = mismatches(k,m,corres)\n",
    "\n",
    "params = np.array([1e-9,1e-7,1e-5, 1e-4, 1e-3, 1e-2,3e-2, 7e-2, 1e-1, 1,10,100])\n",
    "\n",
    "errors = np.zeros(len(params))\n",
    "losses = np.zeros(len(params))\n",
    "\n",
    "for i in range(len(params)):\n",
    "  param =params[i]\n",
    "\n",
    "  Ridge = KernelRidgeRegScratch_mismatch(param = param, corres = corres, k = k, mms = mms)\n",
    "  Ridge.fit(Xtr1_train,ytr1_train, Xtr1_test)\n",
    "\n",
    "  ypred = np.sign(Ridge.predict())\n",
    "\n",
    "  error= np.sum((ypred - ytr1_test) != 0)\n",
    "  loss = error/len(ytr1_test)\n",
    "\n",
    "  errors[i] = error\n",
    "  losses [i] = loss\n",
    "  print(\"error: \", error)\n",
    "  print(\"loss: \", loss)\n",
    "\n",
    "print('optimal param: ', params[np.argmin(errors)])\n",
    "print('optimal error: ', errors[np.argmin(errors)])"
   ]
  },
  {
   "cell_type": "code",
   "execution_count": null,
   "metadata": {
    "colab": {
     "base_uri": "https://localhost:8080/"
    },
    "id": "RiDSii4J928l",
    "outputId": "4d81bbaa-0398-441e-c1f5-db0e36c43734"
   },
   "outputs": [
    {
     "name": "stdout",
     "output_type": "stream",
     "text": [
      "error:  185\n",
      "loss:  0.37\n",
      "error:  185\n",
      "loss:  0.37\n",
      "error:  186\n",
      "loss:  0.372\n",
      "error:  175\n",
      "loss:  0.35\n",
      "error:  179\n",
      "loss:  0.358\n",
      "error:  178\n",
      "loss:  0.356\n",
      "error:  174\n",
      "loss:  0.348\n",
      "error:  199\n",
      "loss:  0.398\n",
      "optimal param:  0.1\n",
      "optimal error:  174.0\n"
     ]
    }
   ],
   "source": [
    "corpus = ['A','C','G','T']\n",
    "k = 7\n",
    "m = 3\n",
    "\n",
    "corres = make_corres(corpus,k)\n",
    "mms = mismatches(k,m,corres)\n",
    "\n",
    "params = np.array([1e-5, 1e-4, 1e-3, 1e-2,3e-2, 7e-2, 1e-1, 1])\n",
    "\n",
    "errors = np.zeros(len(params))\n",
    "losses = np.zeros(len(params))\n",
    "\n",
    "for i in range(len(params)):\n",
    "  param =params[i]\n",
    "\n",
    "  Ridge = KernelRidgeRegScratch_mismatch(param = param, corres = corres, k = k, mms = mms)\n",
    "  Ridge.fit(Xtr1_train,ytr1_train, Xtr1_test)\n",
    "\n",
    "  ypred = np.sign(Ridge.predict())\n",
    "\n",
    "  error= np.sum((ypred - ytr1_test) != 0)\n",
    "  loss = error/len(ytr1_test)\n",
    "\n",
    "  errors[i] = error\n",
    "  losses [i] = loss\n",
    "  print(\"error: \", error)\n",
    "  print(\"loss: \", loss)\n",
    "\n",
    "print('optimal param: ', params[np.argmin(errors)])\n",
    "print('optimal error: ', errors[np.argmin(errors)])"
   ]
  },
  {
   "cell_type": "code",
   "execution_count": null,
   "metadata": {
    "colab": {
     "base_uri": "https://localhost:8080/"
    },
    "id": "V4l_e7b494fN",
    "outputId": "9290467b-9070-40d5-ce52-2761e6bfadba"
   },
   "outputs": [
    {
     "name": "stdout",
     "output_type": "stream",
     "text": [
      "error:  199\n",
      "loss:  0.398\n",
      "error:  199\n",
      "loss:  0.398\n",
      "error:  193\n",
      "loss:  0.386\n",
      "error:  185\n",
      "loss:  0.37\n",
      "error:  183\n",
      "loss:  0.366\n",
      "error:  181\n",
      "loss:  0.362\n",
      "error:  181\n",
      "loss:  0.362\n",
      "error:  187\n",
      "loss:  0.374\n",
      "optimal param:  0.07\n",
      "optimal error:  181.0\n"
     ]
    }
   ],
   "source": [
    "corpus = ['A','C','G','T']\n",
    "k = 6\n",
    "m = 2\n",
    "\n",
    "corres = make_corres(corpus,k)\n",
    "mms = mismatches(k,m,corres)\n",
    "\n",
    "params = np.array([1e-5, 1e-4, 1e-3, 1e-2,3e-2, 7e-2, 1e-1, 1])\n",
    "\n",
    "errors = np.zeros(len(params))\n",
    "losses = np.zeros(len(params))\n",
    "\n",
    "for i in range(len(params)):\n",
    "  param =params[i]\n",
    "\n",
    "  Ridge = KernelRidgeRegScratch_mismatch(param = param, corres = corres, k = k, mms = mms)\n",
    "  Ridge.fit(Xtr1_train,ytr1_train, Xtr1_test)\n",
    "\n",
    "  ypred = np.sign(Ridge.predict())\n",
    "\n",
    "  error= np.sum((ypred - ytr1_test) != 0)\n",
    "  loss = error/len(ytr1_test)\n",
    "\n",
    "  errors[i] = error\n",
    "  losses [i] = loss\n",
    "  print(\"error: \", error)\n",
    "  print(\"loss: \", loss)\n",
    "\n",
    "print('optimal param: ', params[np.argmin(errors)])\n",
    "print('optimal error: ', errors[np.argmin(errors)])"
   ]
  },
  {
   "cell_type": "code",
   "execution_count": null,
   "metadata": {
    "colab": {
     "base_uri": "https://localhost:8080/"
    },
    "id": "PZSYUlIk96IC",
    "outputId": "b3663fdc-d29c-4cd2-b0a3-0b0e967be847"
   },
   "outputs": [
    {
     "name": "stdout",
     "output_type": "stream",
     "text": [
      "error:  210\n",
      "loss:  0.42\n",
      "error:  210\n",
      "loss:  0.42\n",
      "error:  207\n",
      "loss:  0.414\n",
      "error:  204\n",
      "loss:  0.408\n",
      "error:  187\n",
      "loss:  0.374\n",
      "error:  184\n",
      "loss:  0.368\n",
      "error:  183\n",
      "loss:  0.366\n",
      "error:  171\n",
      "loss:  0.342\n",
      "optimal param:  1.0\n",
      "optimal error:  171.0\n"
     ]
    }
   ],
   "source": [
    "corpus = ['A','C','G','T']\n",
    "k = 6\n",
    "m = 1\n",
    "\n",
    "corres = make_corres(corpus,k)\n",
    "mms = mismatches(k,m,corres)\n",
    "\n",
    "params = np.array([1e-5, 1e-4, 1e-3, 1e-2,3e-2, 7e-2, 1e-1, 1])\n",
    "\n",
    "errors = np.zeros(len(params))\n",
    "losses = np.zeros(len(params))\n",
    "\n",
    "for i in range(len(params)):\n",
    "  param =params[i]\n",
    "\n",
    "  Ridge = KernelRidgeRegScratch_mismatch(param = param, corres = corres, k = k, mms = mms)\n",
    "  Ridge.fit(Xtr1_train,ytr1_train, Xtr1_test)\n",
    "\n",
    "  ypred = np.sign(Ridge.predict())\n",
    "\n",
    "  error= np.sum((ypred - ytr1_test) != 0)\n",
    "  loss = error/len(ytr1_test)\n",
    "\n",
    "  errors[i] = error\n",
    "  losses [i] = loss\n",
    "  print(\"error: \", error)\n",
    "  print(\"loss: \", loss)\n",
    "\n",
    "print('optimal param: ', params[np.argmin(errors)])\n",
    "print('optimal error: ', errors[np.argmin(errors)])"
   ]
  },
  {
   "cell_type": "markdown",
   "metadata": {
    "id": "Q6egKOoRjnI5"
   },
   "source": [
    "###### Submission"
   ]
  },
  {
   "cell_type": "markdown",
   "metadata": {
    "id": "LMuhaPJ5nzke"
   },
   "source": [
    "As we can see, the best results are given with k =7 and param =1 and m=1. Hence we'll use them to apply the method on the test dataset for the challenge submission"
   ]
  },
  {
   "cell_type": "code",
   "execution_count": null,
   "metadata": {
    "id": "s4Pcr2lWjpDW"
   },
   "outputs": [],
   "source": [
    "corpus = ['A','C','G','T']\n",
    "k = 7\n",
    "m = 1\n",
    "\n",
    "corres = make_corres(corpus,k)\n",
    "mms = mismatches(k,m,corres)\n",
    "param = 1\n",
    "\n",
    "Ridge = KernelRidgeRegScratch_mismatch(param = param, corres = corres, k = k, mms = mms)\n",
    "\n",
    "Ridge.fit(Xtr1,ytr1, Xte1)\n",
    "\n",
    "ypred = np.sign(Ridge.predict())"
   ]
  },
  {
   "cell_type": "code",
   "execution_count": null,
   "metadata": {
    "colab": {
     "base_uri": "https://localhost:8080/",
     "height": 419
    },
    "id": "U1bSVQh1kPOv",
    "outputId": "4c2e4192-f978-4077-c6ae-1964ab7de2ee"
   },
   "outputs": [
    {
     "data": {
      "text/html": [
       "<div>\n",
       "<style scoped>\n",
       "    .dataframe tbody tr th:only-of-type {\n",
       "        vertical-align: middle;\n",
       "    }\n",
       "\n",
       "    .dataframe tbody tr th {\n",
       "        vertical-align: top;\n",
       "    }\n",
       "\n",
       "    .dataframe thead th {\n",
       "        text-align: right;\n",
       "    }\n",
       "</style>\n",
       "<table border=\"1\" class=\"dataframe\">\n",
       "  <thead>\n",
       "    <tr style=\"text-align: right;\">\n",
       "      <th></th>\n",
       "      <th>id</th>\n",
       "      <th>Bound</th>\n",
       "    </tr>\n",
       "  </thead>\n",
       "  <tbody>\n",
       "    <tr>\n",
       "      <th>0</th>\n",
       "      <td>1000</td>\n",
       "      <td>1</td>\n",
       "    </tr>\n",
       "    <tr>\n",
       "      <th>1</th>\n",
       "      <td>1001</td>\n",
       "      <td>1</td>\n",
       "    </tr>\n",
       "    <tr>\n",
       "      <th>2</th>\n",
       "      <td>1002</td>\n",
       "      <td>1</td>\n",
       "    </tr>\n",
       "    <tr>\n",
       "      <th>3</th>\n",
       "      <td>1003</td>\n",
       "      <td>-1</td>\n",
       "    </tr>\n",
       "    <tr>\n",
       "      <th>4</th>\n",
       "      <td>1004</td>\n",
       "      <td>-1</td>\n",
       "    </tr>\n",
       "    <tr>\n",
       "      <th>...</th>\n",
       "      <td>...</td>\n",
       "      <td>...</td>\n",
       "    </tr>\n",
       "    <tr>\n",
       "      <th>995</th>\n",
       "      <td>1995</td>\n",
       "      <td>-1</td>\n",
       "    </tr>\n",
       "    <tr>\n",
       "      <th>996</th>\n",
       "      <td>1996</td>\n",
       "      <td>-1</td>\n",
       "    </tr>\n",
       "    <tr>\n",
       "      <th>997</th>\n",
       "      <td>1997</td>\n",
       "      <td>-1</td>\n",
       "    </tr>\n",
       "    <tr>\n",
       "      <th>998</th>\n",
       "      <td>1998</td>\n",
       "      <td>-1</td>\n",
       "    </tr>\n",
       "    <tr>\n",
       "      <th>999</th>\n",
       "      <td>1999</td>\n",
       "      <td>-1</td>\n",
       "    </tr>\n",
       "  </tbody>\n",
       "</table>\n",
       "<p>1000 rows × 2 columns</p>\n",
       "</div>"
      ],
      "text/plain": [
       "       id  Bound\n",
       "0    1000      1\n",
       "1    1001      1\n",
       "2    1002      1\n",
       "3    1003     -1\n",
       "4    1004     -1\n",
       "..    ...    ...\n",
       "995  1995     -1\n",
       "996  1996     -1\n",
       "997  1997     -1\n",
       "998  1998     -1\n",
       "999  1999     -1\n",
       "\n",
       "[1000 rows x 2 columns]"
      ]
     },
     "execution_count": 24,
     "metadata": {
      "tags": []
     },
     "output_type": "execute_result"
    }
   ],
   "source": [
    "rep = ypred.astype(\"int8\")\n",
    "df_rep2 = pd.DataFrame(data=np.array([range(1000,2000),rep]).T, columns=[\"id\", \"Bound\"])\n",
    "df_rep2"
   ]
  },
  {
   "cell_type": "markdown",
   "metadata": {
    "id": "nR6MoolPGdf3"
   },
   "source": [
    "##### X2"
   ]
  },
  {
   "cell_type": "code",
   "execution_count": null,
   "metadata": {
    "colab": {
     "base_uri": "https://localhost:8080/"
    },
    "id": "FCCP-IrWB0eA",
    "outputId": "7287005d-3965-4941-f5ab-c54e708866db"
   },
   "outputs": [
    {
     "name": "stdout",
     "output_type": "stream",
     "text": [
      "error:  152\n",
      "loss:  0.304\n",
      "error:  152\n",
      "loss:  0.304\n",
      "error:  152\n",
      "loss:  0.304\n",
      "error:  152\n",
      "loss:  0.304\n",
      "error:  151\n",
      "loss:  0.302\n",
      "error:  144\n",
      "loss:  0.288\n",
      "error:  142\n",
      "loss:  0.284\n",
      "error:  142\n",
      "loss:  0.284\n",
      "error:  139\n",
      "loss:  0.278\n",
      "error:  129\n",
      "loss:  0.258\n",
      "error:  136\n",
      "loss:  0.272\n",
      "error:  146\n",
      "loss:  0.292\n",
      "optimal param:  1.0\n",
      "optimal error:  129.0\n"
     ]
    }
   ],
   "source": [
    "corpus = ['A','C','G','T']\n",
    "k = 7\n",
    "m = 2\n",
    "\n",
    "corres = make_corres(corpus,k)\n",
    "mms = mismatches(k,m,corres)\n",
    "\n",
    "params = np.array([1e-9,1e-7,1e-5, 1e-4, 1e-3, 1e-2,3e-2, 7e-2, 1e-1, 1,10,100])\n",
    "\n",
    "errors = np.zeros(len(params))\n",
    "losses = np.zeros(len(params))\n",
    "\n",
    "for i in range(len(params)):\n",
    "  param =params[i]\n",
    "\n",
    "  Ridge = KernelRidgeRegScratch_mismatch(param = param, corres = corres, k = k, mms = mms)\n",
    "  Ridge.fit(Xtr2_train,ytr2_train, Xtr2_test)\n",
    "\n",
    "  ypred = np.sign(Ridge.predict())\n",
    "\n",
    "  error= np.sum((ypred - ytr2_test) != 0)\n",
    "  loss = error/len(ytr2_test)\n",
    "\n",
    "  errors[i] = error\n",
    "  losses [i] = loss\n",
    "  print(\"error: \", error)\n",
    "  print(\"loss: \", loss)\n",
    "\n",
    "print('optimal param: ', params[np.argmin(errors)])\n",
    "print('optimal error: ', errors[np.argmin(errors)])"
   ]
  },
  {
   "cell_type": "code",
   "execution_count": null,
   "metadata": {
    "colab": {
     "base_uri": "https://localhost:8080/"
    },
    "id": "CV5oUHzhGqBw",
    "outputId": "14b9afc3-3d46-427c-8446-3aef3c1be3ab"
   },
   "outputs": [
    {
     "name": "stdout",
     "output_type": "stream",
     "text": [
      "error:  149\n",
      "loss:  0.298\n",
      "error:  149\n",
      "loss:  0.298\n",
      "error:  149\n",
      "loss:  0.298\n",
      "error:  149\n",
      "loss:  0.298\n",
      "error:  148\n",
      "loss:  0.296\n",
      "error:  144\n",
      "loss:  0.288\n",
      "error:  137\n",
      "loss:  0.274\n",
      "error:  138\n",
      "loss:  0.276\n",
      "error:  137\n",
      "loss:  0.274\n",
      "error:  133\n",
      "loss:  0.266\n",
      "error:  129\n",
      "loss:  0.258\n",
      "error:  144\n",
      "loss:  0.288\n",
      "optimal param:  10.0\n",
      "optimal error:  129.0\n"
     ]
    }
   ],
   "source": [
    "corpus = ['A','C','G','T']\n",
    "k = 7\n",
    "m = 1\n",
    "\n",
    "corres = make_corres(corpus,k)\n",
    "mms = mismatches(k,m,corres)\n",
    "\n",
    "params = np.array([1e-9,1e-7,1e-5, 1e-4, 1e-3, 1e-2,3e-2, 7e-2, 1e-1, 1,10,100])\n",
    "\n",
    "errors = np.zeros(len(params))\n",
    "losses = np.zeros(len(params))\n",
    "\n",
    "for i in range(len(params)):\n",
    "  param =params[i]\n",
    "\n",
    "  Ridge = KernelRidgeRegScratch_mismatch(param = param, corres = corres, k = k, mms = mms)\n",
    "  Ridge.fit(Xtr2_train,ytr2_train, Xtr2_test)\n",
    "\n",
    "  ypred = np.sign(Ridge.predict())\n",
    "\n",
    "  error= np.sum((ypred - ytr2_test) != 0)\n",
    "  loss = error/len(ytr2_test)\n",
    "\n",
    "  errors[i] = error\n",
    "  losses [i] = loss\n",
    "  print(\"error: \", error)\n",
    "  print(\"loss: \", loss)\n",
    "\n",
    "print('optimal param: ', params[np.argmin(errors)])\n",
    "print('optimal error: ', errors[np.argmin(errors)])"
   ]
  },
  {
   "cell_type": "code",
   "execution_count": null,
   "metadata": {
    "colab": {
     "base_uri": "https://localhost:8080/"
    },
    "id": "asY583yzGsfz",
    "outputId": "dceb3745-e758-4091-dd8a-86b9dbd7c157"
   },
   "outputs": [
    {
     "name": "stdout",
     "output_type": "stream",
     "text": [
      "error:  130\n",
      "loss:  0.26\n",
      "error:  130\n",
      "loss:  0.26\n",
      "error:  130\n",
      "loss:  0.26\n",
      "error:  130\n",
      "loss:  0.26\n",
      "error:  130\n",
      "loss:  0.26\n",
      "error:  125\n",
      "loss:  0.25\n",
      "error:  127\n",
      "loss:  0.254\n",
      "error:  123\n",
      "loss:  0.246\n",
      "error:  126\n",
      "loss:  0.252\n",
      "error:  135\n",
      "loss:  0.27\n",
      "error:  158\n",
      "loss:  0.316\n",
      "error:  197\n",
      "loss:  0.394\n",
      "optimal param:  0.07\n",
      "optimal error:  123.0\n"
     ]
    }
   ],
   "source": [
    "corpus = ['A','C','G','T']\n",
    "k = 7\n",
    "m = 3\n",
    "\n",
    "corres = make_corres(corpus,k)\n",
    "mms = mismatches(k,m,corres)\n",
    "\n",
    "params = np.array([1e-9,1e-7,1e-5, 1e-4, 1e-3, 1e-2,3e-2, 7e-2, 1e-1, 1,10,100])\n",
    "\n",
    "errors = np.zeros(len(params))\n",
    "losses = np.zeros(len(params))\n",
    "\n",
    "for i in range(len(params)):\n",
    "  param =params[i]\n",
    "\n",
    "  Ridge = KernelRidgeRegScratch_mismatch(param = param, corres = corres, k = k, mms = mms)\n",
    "  Ridge.fit(Xtr2_train,ytr2_train, Xtr2_test)\n",
    "\n",
    "  ypred = np.sign(Ridge.predict())\n",
    "\n",
    "  error= np.sum((ypred - ytr2_test) != 0)\n",
    "  loss = error/len(ytr2_test)\n",
    "\n",
    "  errors[i] = error\n",
    "  losses [i] = loss\n",
    "  print(\"error: \", error)\n",
    "  print(\"loss: \", loss)\n",
    "\n",
    "print('optimal param: ', params[np.argmin(errors)])\n",
    "print('optimal error: ', errors[np.argmin(errors)])"
   ]
  },
  {
   "cell_type": "code",
   "execution_count": null,
   "metadata": {
    "colab": {
     "base_uri": "https://localhost:8080/"
    },
    "id": "ktrAUlhkGtq_",
    "outputId": "956859c1-7b21-4987-ddf9-59110662f690"
   },
   "outputs": [
    {
     "name": "stdout",
     "output_type": "stream",
     "text": [
      "error:  164\n",
      "loss:  0.328\n",
      "error:  164\n",
      "loss:  0.328\n",
      "error:  164\n",
      "loss:  0.328\n",
      "error:  166\n",
      "loss:  0.332\n",
      "error:  163\n",
      "loss:  0.326\n",
      "error:  160\n",
      "loss:  0.32\n",
      "error:  148\n",
      "loss:  0.296\n",
      "error:  134\n",
      "loss:  0.268\n",
      "error:  134\n",
      "loss:  0.268\n",
      "error:  132\n",
      "loss:  0.264\n",
      "error:  140\n",
      "loss:  0.28\n",
      "error:  167\n",
      "loss:  0.334\n",
      "optimal param:  1.0\n",
      "optimal error:  132.0\n"
     ]
    }
   ],
   "source": [
    "corpus = ['A','C','G','T']\n",
    "k = 6\n",
    "m = 2\n",
    "\n",
    "corres = make_corres(corpus,k)\n",
    "mms = mismatches(k,m,corres)\n",
    "\n",
    "params = np.array([1e-9,1e-7,1e-5, 1e-4, 1e-3, 1e-2,3e-2, 7e-2, 1e-1, 1,10,100])\n",
    "\n",
    "errors = np.zeros(len(params))\n",
    "losses = np.zeros(len(params))\n",
    "\n",
    "for i in range(len(params)):\n",
    "  param =params[i]\n",
    "\n",
    "  Ridge = KernelRidgeRegScratch_mismatch(param = param, corres = corres, k = k, mms = mms)\n",
    "  Ridge.fit(Xtr2_train,ytr2_train, Xtr2_test)\n",
    "\n",
    "  ypred = np.sign(Ridge.predict())\n",
    "\n",
    "  error= np.sum((ypred - ytr2_test) != 0)\n",
    "  loss = error/len(ytr2_test)\n",
    "\n",
    "  errors[i] = error\n",
    "  losses [i] = loss\n",
    "  print(\"error: \", error)\n",
    "  print(\"loss: \", loss)\n",
    "\n",
    "print('optimal param: ', params[np.argmin(errors)])\n",
    "print('optimal error: ', errors[np.argmin(errors)])"
   ]
  },
  {
   "cell_type": "code",
   "execution_count": null,
   "metadata": {
    "colab": {
     "base_uri": "https://localhost:8080/"
    },
    "id": "vbN-ceK3Gu2H",
    "outputId": "a7a82963-5051-45cf-99c4-ac58242363a0"
   },
   "outputs": [
    {
     "name": "stdout",
     "output_type": "stream",
     "text": [
      "error:  168\n",
      "loss:  0.336\n",
      "error:  168\n",
      "loss:  0.336\n",
      "error:  168\n",
      "loss:  0.336\n",
      "error:  166\n",
      "loss:  0.332\n",
      "error:  163\n",
      "loss:  0.326\n",
      "error:  160\n",
      "loss:  0.32\n",
      "error:  162\n",
      "loss:  0.324\n",
      "error:  152\n",
      "loss:  0.304\n",
      "error:  153\n",
      "loss:  0.306\n",
      "error:  131\n",
      "loss:  0.262\n",
      "error:  134\n",
      "loss:  0.268\n",
      "error:  141\n",
      "loss:  0.282\n",
      "optimal param:  1.0\n",
      "optimal error:  131.0\n"
     ]
    }
   ],
   "source": [
    "corpus = ['A','C','G','T']\n",
    "k = 6\n",
    "m = 1\n",
    "\n",
    "corres = make_corres(corpus,k)\n",
    "mms = mismatches(k,m,corres)\n",
    "\n",
    "params = np.array([1e-9,1e-7,1e-5, 1e-4, 1e-3, 1e-2,3e-2, 7e-2, 1e-1, 1,10,100])\n",
    "\n",
    "errors = np.zeros(len(params))\n",
    "losses = np.zeros(len(params))\n",
    "\n",
    "for i in range(len(params)):\n",
    "  param =params[i]\n",
    "\n",
    "  Ridge = KernelRidgeRegScratch_mismatch(param = param, corres = corres, k = k, mms = mms)\n",
    "  Ridge.fit(Xtr2_train,ytr2_train, Xtr2_test)\n",
    "\n",
    "  ypred = np.sign(Ridge.predict())\n",
    "\n",
    "  error= np.sum((ypred - ytr2_test) != 0)\n",
    "  loss = error/len(ytr2_test)\n",
    "\n",
    "  errors[i] = error\n",
    "  losses [i] = loss\n",
    "  print(\"error: \", error)\n",
    "  print(\"loss: \", loss)\n",
    "\n",
    "print('optimal param: ', params[np.argmin(errors)])\n",
    "print('optimal error: ', errors[np.argmin(errors)])"
   ]
  },
  {
   "cell_type": "markdown",
   "metadata": {
    "id": "9H-VGBZVkSp4"
   },
   "source": [
    "###### Submission"
   ]
  },
  {
   "cell_type": "markdown",
   "metadata": {
    "id": "Xq5_E7qRn32N"
   },
   "source": [
    "As we can see, the best results are given with k =7 and param =0.07 and m=3. Hence we'll use them to apply the method on the test dataset for the challenge submission"
   ]
  },
  {
   "cell_type": "code",
   "execution_count": null,
   "metadata": {
    "id": "6NDQJk7KGw3d"
   },
   "outputs": [],
   "source": [
    "corpus = ['A','C','G','T']\n",
    "k = 7\n",
    "m = 3\n",
    "\n",
    "corres = make_corres(corpus,k)\n",
    "mms = mismatches(k,m,corres)\n",
    "param = 0.07\n",
    "\n",
    "Ridge = KernelRidgeRegScratch_mismatch(param = param, corres = corres, k = k, mms = mms)\n",
    "\n",
    "Ridge.fit(Xtr2,ytr2, Xte2)\n",
    "\n",
    "ypred = np.sign(Ridge.predict())"
   ]
  },
  {
   "cell_type": "code",
   "execution_count": null,
   "metadata": {
    "colab": {
     "base_uri": "https://localhost:8080/",
     "height": 419
    },
    "id": "-754Y4EJkgKg",
    "outputId": "c2f7a9d1-0d68-4e5a-c57d-ed5f7b4d1bf1"
   },
   "outputs": [
    {
     "data": {
      "text/html": [
       "<div>\n",
       "<style scoped>\n",
       "    .dataframe tbody tr th:only-of-type {\n",
       "        vertical-align: middle;\n",
       "    }\n",
       "\n",
       "    .dataframe tbody tr th {\n",
       "        vertical-align: top;\n",
       "    }\n",
       "\n",
       "    .dataframe thead th {\n",
       "        text-align: right;\n",
       "    }\n",
       "</style>\n",
       "<table border=\"1\" class=\"dataframe\">\n",
       "  <thead>\n",
       "    <tr style=\"text-align: right;\">\n",
       "      <th></th>\n",
       "      <th>id</th>\n",
       "      <th>Bound</th>\n",
       "    </tr>\n",
       "  </thead>\n",
       "  <tbody>\n",
       "    <tr>\n",
       "      <th>0</th>\n",
       "      <td>2000</td>\n",
       "      <td>-1</td>\n",
       "    </tr>\n",
       "    <tr>\n",
       "      <th>1</th>\n",
       "      <td>2001</td>\n",
       "      <td>-1</td>\n",
       "    </tr>\n",
       "    <tr>\n",
       "      <th>2</th>\n",
       "      <td>2002</td>\n",
       "      <td>1</td>\n",
       "    </tr>\n",
       "    <tr>\n",
       "      <th>3</th>\n",
       "      <td>2003</td>\n",
       "      <td>1</td>\n",
       "    </tr>\n",
       "    <tr>\n",
       "      <th>4</th>\n",
       "      <td>2004</td>\n",
       "      <td>1</td>\n",
       "    </tr>\n",
       "    <tr>\n",
       "      <th>...</th>\n",
       "      <td>...</td>\n",
       "      <td>...</td>\n",
       "    </tr>\n",
       "    <tr>\n",
       "      <th>995</th>\n",
       "      <td>2995</td>\n",
       "      <td>-1</td>\n",
       "    </tr>\n",
       "    <tr>\n",
       "      <th>996</th>\n",
       "      <td>2996</td>\n",
       "      <td>-1</td>\n",
       "    </tr>\n",
       "    <tr>\n",
       "      <th>997</th>\n",
       "      <td>2997</td>\n",
       "      <td>-1</td>\n",
       "    </tr>\n",
       "    <tr>\n",
       "      <th>998</th>\n",
       "      <td>2998</td>\n",
       "      <td>-1</td>\n",
       "    </tr>\n",
       "    <tr>\n",
       "      <th>999</th>\n",
       "      <td>2999</td>\n",
       "      <td>1</td>\n",
       "    </tr>\n",
       "  </tbody>\n",
       "</table>\n",
       "<p>1000 rows × 2 columns</p>\n",
       "</div>"
      ],
      "text/plain": [
       "       id  Bound\n",
       "0    2000     -1\n",
       "1    2001     -1\n",
       "2    2002      1\n",
       "3    2003      1\n",
       "4    2004      1\n",
       "..    ...    ...\n",
       "995  2995     -1\n",
       "996  2996     -1\n",
       "997  2997     -1\n",
       "998  2998     -1\n",
       "999  2999      1\n",
       "\n",
       "[1000 rows x 2 columns]"
      ]
     },
     "execution_count": 31,
     "metadata": {
      "tags": []
     },
     "output_type": "execute_result"
    }
   ],
   "source": [
    "rep = ypred.astype(\"int8\")\n",
    "df_rep3 = pd.DataFrame(data=np.array([range(2000,3000),rep]).T, columns=[\"id\", \"Bound\"])\n",
    "df_rep3"
   ]
  },
  {
   "cell_type": "markdown",
   "metadata": {
    "id": "YQWUfZZHkjKL"
   },
   "source": [
    "##### Final Submission"
   ]
  },
  {
   "cell_type": "code",
   "execution_count": null,
   "metadata": {
    "colab": {
     "base_uri": "https://localhost:8080/",
     "height": 419
    },
    "id": "3VT6ptJ3kkxf",
    "outputId": "4bf6c0ef-ce58-40fc-b49f-ed6ad772ad36"
   },
   "outputs": [
    {
     "data": {
      "text/html": [
       "<div>\n",
       "<style scoped>\n",
       "    .dataframe tbody tr th:only-of-type {\n",
       "        vertical-align: middle;\n",
       "    }\n",
       "\n",
       "    .dataframe tbody tr th {\n",
       "        vertical-align: top;\n",
       "    }\n",
       "\n",
       "    .dataframe thead th {\n",
       "        text-align: right;\n",
       "    }\n",
       "</style>\n",
       "<table border=\"1\" class=\"dataframe\">\n",
       "  <thead>\n",
       "    <tr style=\"text-align: right;\">\n",
       "      <th></th>\n",
       "      <th>id</th>\n",
       "      <th>Bound</th>\n",
       "    </tr>\n",
       "  </thead>\n",
       "  <tbody>\n",
       "    <tr>\n",
       "      <th>0</th>\n",
       "      <td>0</td>\n",
       "      <td>1</td>\n",
       "    </tr>\n",
       "    <tr>\n",
       "      <th>1</th>\n",
       "      <td>1</td>\n",
       "      <td>1</td>\n",
       "    </tr>\n",
       "    <tr>\n",
       "      <th>2</th>\n",
       "      <td>2</td>\n",
       "      <td>1</td>\n",
       "    </tr>\n",
       "    <tr>\n",
       "      <th>3</th>\n",
       "      <td>3</td>\n",
       "      <td>1</td>\n",
       "    </tr>\n",
       "    <tr>\n",
       "      <th>4</th>\n",
       "      <td>4</td>\n",
       "      <td>0</td>\n",
       "    </tr>\n",
       "    <tr>\n",
       "      <th>...</th>\n",
       "      <td>...</td>\n",
       "      <td>...</td>\n",
       "    </tr>\n",
       "    <tr>\n",
       "      <th>995</th>\n",
       "      <td>2995</td>\n",
       "      <td>0</td>\n",
       "    </tr>\n",
       "    <tr>\n",
       "      <th>996</th>\n",
       "      <td>2996</td>\n",
       "      <td>0</td>\n",
       "    </tr>\n",
       "    <tr>\n",
       "      <th>997</th>\n",
       "      <td>2997</td>\n",
       "      <td>0</td>\n",
       "    </tr>\n",
       "    <tr>\n",
       "      <th>998</th>\n",
       "      <td>2998</td>\n",
       "      <td>0</td>\n",
       "    </tr>\n",
       "    <tr>\n",
       "      <th>999</th>\n",
       "      <td>2999</td>\n",
       "      <td>1</td>\n",
       "    </tr>\n",
       "  </tbody>\n",
       "</table>\n",
       "<p>3000 rows × 2 columns</p>\n",
       "</div>"
      ],
      "text/plain": [
       "       id  Bound\n",
       "0       0      1\n",
       "1       1      1\n",
       "2       2      1\n",
       "3       3      1\n",
       "4       4      0\n",
       "..    ...    ...\n",
       "995  2995      0\n",
       "996  2996      0\n",
       "997  2997      0\n",
       "998  2998      0\n",
       "999  2999      1\n",
       "\n",
       "[3000 rows x 2 columns]"
      ]
     },
     "execution_count": 32,
     "metadata": {
      "tags": []
     },
     "output_type": "execute_result"
    }
   ],
   "source": [
    "df_sub = pd.concat([df_rep1,df_rep2,df_rep3])\n",
    "df_sub = df_sub.replace(-1,0)\n",
    "df_sub\n"
   ]
  },
  {
   "cell_type": "code",
   "execution_count": null,
   "metadata": {
    "id": "Nc5WRoFkkvzJ"
   },
   "outputs": [],
   "source": [
    "df_sub.to_csv('submission_kridgemismatch_7.csv', index=False)"
   ]
  },
  {
   "cell_type": "markdown",
   "metadata": {
    "id": "OVT6ZwJ5zz_4"
   },
   "source": [
    "### Thank you"
   ]
  }
 ],
 "metadata": {
  "accelerator": "GPU",
  "colab": {
   "collapsed_sections": [],
   "name": "kernelchallenge_kernel_ridge_reg.ipynb",
   "provenance": []
  },
  "kernelspec": {
   "display_name": "Python 3",
   "language": "python",
   "name": "python3"
  },
  "language_info": {
   "codemirror_mode": {
    "name": "ipython",
    "version": 3
   },
   "file_extension": ".py",
   "mimetype": "text/x-python",
   "name": "python",
   "nbconvert_exporter": "python",
   "pygments_lexer": "ipython3",
   "version": "3.7.6"
  }
 },
 "nbformat": 4,
 "nbformat_minor": 4
}
